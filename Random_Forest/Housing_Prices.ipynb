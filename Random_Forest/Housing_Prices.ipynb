{
 "cells": [
  {
   "cell_type": "markdown",
   "metadata": {
    "id": "7Q73CkM6AqZm"
   },
   "source": [
    "# Housing Price Prediction Model\n",
    "\n",
    "Steps performed in this project:\n",
    "\n",
    "- Exploratory Data Analysis\n",
    "    - Missing Values\n",
    "    - Numerical Variables\n",
    "    - Temporal Variables\n",
    "    - Discrete Variables\n",
    "    - Continuous Variables\n",
    "    - Categorical Variables\n",
    "    - Correlation Matrix\n",
    "- Feature Engineering\n",
    "    - Log Transformation\n",
    "    - One Hot Encoding\n",
    "    - Handle Missing Values\n",
    "- Model Building and Evaluation\n",
    "    - Feature Scaling (Standard Scaler)\n",
    "    - Linear Regression\n",
    "    - Random Forest\n",
    "    - Hyperparameter Tuned Model\n",
    "- Result\n"
   ]
  },
  {
   "cell_type": "markdown",
   "metadata": {
    "id": "NSnDoYngAqZu"
   },
   "source": [
    "# Exploratory Data Analysis"
   ]
  },
  {
   "cell_type": "code",
   "execution_count": 1,
   "metadata": {
    "id": "7EOo8hq7AqZu"
   },
   "outputs": [],
   "source": [
    "# Importing the basic libraries\n",
    "import pandas as pd               # linear algebra\n",
    "import seaborn as sns             # data visualization\n",
    "import numpy as np                # data processing\n",
    "import matplotlib.pyplot as plt   # data visualization\n",
    "%matplotlib inline\n",
    "\n",
    "# Display all the columns of the dataframe\n",
    "pd.pandas.set_option('display.max_columns',None)\n",
    "\n",
    "# Model creation libraries\n",
    "from sklearn.preprocessing import OneHotEncoder, StandardScaler\n",
    "from sklearn.metrics import mean_squared_error, mean_absolute_error\n",
    "from sklearn.model_selection import train_test_split, RandomizedSearchCV, GridSearchCV\n",
    "from sklearn.linear_model import LinearRegression\n",
    "from sklearn.ensemble import RandomForestRegressor\n",
    "from sklearn.metrics import r2_score\n",
    "from sklearn.model_selection import cross_val_score"
   ]
  },
  {
   "cell_type": "code",
   "execution_count": 2,
   "metadata": {
    "colab": {
     "base_uri": "https://localhost:8080/",
     "height": 383
    },
    "id": "qbpU9TF8AqZv",
    "outputId": "2db80536-2593-4ceb-bf08-8be1af03bd03"
   },
   "outputs": [
    {
     "data": {
      "text/html": [
       "<div>\n",
       "<style scoped>\n",
       "    .dataframe tbody tr th:only-of-type {\n",
       "        vertical-align: middle;\n",
       "    }\n",
       "\n",
       "    .dataframe tbody tr th {\n",
       "        vertical-align: top;\n",
       "    }\n",
       "\n",
       "    .dataframe thead th {\n",
       "        text-align: right;\n",
       "    }\n",
       "</style>\n",
       "<table border=\"1\" class=\"dataframe\">\n",
       "  <thead>\n",
       "    <tr style=\"text-align: right;\">\n",
       "      <th></th>\n",
       "      <th>Suburb</th>\n",
       "      <th>Address</th>\n",
       "      <th>Rooms</th>\n",
       "      <th>Type</th>\n",
       "      <th>Price</th>\n",
       "      <th>Method</th>\n",
       "      <th>SellerG</th>\n",
       "      <th>Date</th>\n",
       "      <th>Distance</th>\n",
       "      <th>Postcode</th>\n",
       "      <th>Bedroom2</th>\n",
       "      <th>Bathroom</th>\n",
       "      <th>Car</th>\n",
       "      <th>Landsize</th>\n",
       "      <th>BuildingArea</th>\n",
       "      <th>YearBuilt</th>\n",
       "      <th>CouncilArea</th>\n",
       "      <th>Lattitude</th>\n",
       "      <th>Longtitude</th>\n",
       "      <th>Regionname</th>\n",
       "      <th>Propertycount</th>\n",
       "    </tr>\n",
       "  </thead>\n",
       "  <tbody>\n",
       "    <tr>\n",
       "      <th>0</th>\n",
       "      <td>Abbotsford</td>\n",
       "      <td>85 Turner St</td>\n",
       "      <td>2</td>\n",
       "      <td>h</td>\n",
       "      <td>1480000</td>\n",
       "      <td>S</td>\n",
       "      <td>Biggin</td>\n",
       "      <td>03-12-2016</td>\n",
       "      <td>2.5</td>\n",
       "      <td>3067</td>\n",
       "      <td>2</td>\n",
       "      <td>1</td>\n",
       "      <td>1.0</td>\n",
       "      <td>202</td>\n",
       "      <td>NaN</td>\n",
       "      <td>NaN</td>\n",
       "      <td>Yarra</td>\n",
       "      <td>-37.7996</td>\n",
       "      <td>144.9984</td>\n",
       "      <td>Northern Metropolitan</td>\n",
       "      <td>4019</td>\n",
       "    </tr>\n",
       "    <tr>\n",
       "      <th>1</th>\n",
       "      <td>Abbotsford</td>\n",
       "      <td>25 Bloomburg St</td>\n",
       "      <td>2</td>\n",
       "      <td>h</td>\n",
       "      <td>1035000</td>\n",
       "      <td>S</td>\n",
       "      <td>Biggin</td>\n",
       "      <td>04-02-2016</td>\n",
       "      <td>2.5</td>\n",
       "      <td>3067</td>\n",
       "      <td>2</td>\n",
       "      <td>1</td>\n",
       "      <td>0.0</td>\n",
       "      <td>156</td>\n",
       "      <td>79.0</td>\n",
       "      <td>1900.0</td>\n",
       "      <td>Yarra</td>\n",
       "      <td>-37.8079</td>\n",
       "      <td>144.9934</td>\n",
       "      <td>Northern Metropolitan</td>\n",
       "      <td>4019</td>\n",
       "    </tr>\n",
       "    <tr>\n",
       "      <th>2</th>\n",
       "      <td>Abbotsford</td>\n",
       "      <td>5 Charles St</td>\n",
       "      <td>3</td>\n",
       "      <td>h</td>\n",
       "      <td>1465000</td>\n",
       "      <td>SP</td>\n",
       "      <td>Biggin</td>\n",
       "      <td>04-03-2017</td>\n",
       "      <td>2.5</td>\n",
       "      <td>3067</td>\n",
       "      <td>3</td>\n",
       "      <td>2</td>\n",
       "      <td>0.0</td>\n",
       "      <td>134</td>\n",
       "      <td>150.0</td>\n",
       "      <td>1900.0</td>\n",
       "      <td>Yarra</td>\n",
       "      <td>-37.8093</td>\n",
       "      <td>144.9944</td>\n",
       "      <td>Northern Metropolitan</td>\n",
       "      <td>4019</td>\n",
       "    </tr>\n",
       "    <tr>\n",
       "      <th>3</th>\n",
       "      <td>Abbotsford</td>\n",
       "      <td>40 Federation La</td>\n",
       "      <td>3</td>\n",
       "      <td>h</td>\n",
       "      <td>850000</td>\n",
       "      <td>PI</td>\n",
       "      <td>Biggin</td>\n",
       "      <td>04-03-2017</td>\n",
       "      <td>2.5</td>\n",
       "      <td>3067</td>\n",
       "      <td>3</td>\n",
       "      <td>2</td>\n",
       "      <td>1.0</td>\n",
       "      <td>94</td>\n",
       "      <td>NaN</td>\n",
       "      <td>NaN</td>\n",
       "      <td>Yarra</td>\n",
       "      <td>-37.7969</td>\n",
       "      <td>144.9969</td>\n",
       "      <td>Northern Metropolitan</td>\n",
       "      <td>4019</td>\n",
       "    </tr>\n",
       "    <tr>\n",
       "      <th>4</th>\n",
       "      <td>Abbotsford</td>\n",
       "      <td>55a Park St</td>\n",
       "      <td>4</td>\n",
       "      <td>h</td>\n",
       "      <td>1600000</td>\n",
       "      <td>VB</td>\n",
       "      <td>Nelson</td>\n",
       "      <td>04-06-2016</td>\n",
       "      <td>2.5</td>\n",
       "      <td>3067</td>\n",
       "      <td>3</td>\n",
       "      <td>1</td>\n",
       "      <td>2.0</td>\n",
       "      <td>120</td>\n",
       "      <td>142.0</td>\n",
       "      <td>2014.0</td>\n",
       "      <td>Yarra</td>\n",
       "      <td>-37.8072</td>\n",
       "      <td>144.9941</td>\n",
       "      <td>Northern Metropolitan</td>\n",
       "      <td>4019</td>\n",
       "    </tr>\n",
       "  </tbody>\n",
       "</table>\n",
       "</div>"
      ],
      "text/plain": [
       "       Suburb           Address  Rooms Type    Price Method SellerG  \\\n",
       "0  Abbotsford      85 Turner St      2    h  1480000      S  Biggin   \n",
       "1  Abbotsford   25 Bloomburg St      2    h  1035000      S  Biggin   \n",
       "2  Abbotsford      5 Charles St      3    h  1465000     SP  Biggin   \n",
       "3  Abbotsford  40 Federation La      3    h   850000     PI  Biggin   \n",
       "4  Abbotsford       55a Park St      4    h  1600000     VB  Nelson   \n",
       "\n",
       "         Date  Distance  Postcode  Bedroom2  Bathroom  Car  Landsize  \\\n",
       "0  03-12-2016       2.5      3067         2         1  1.0       202   \n",
       "1  04-02-2016       2.5      3067         2         1  0.0       156   \n",
       "2  04-03-2017       2.5      3067         3         2  0.0       134   \n",
       "3  04-03-2017       2.5      3067         3         2  1.0        94   \n",
       "4  04-06-2016       2.5      3067         3         1  2.0       120   \n",
       "\n",
       "   BuildingArea  YearBuilt CouncilArea  Lattitude  Longtitude  \\\n",
       "0           NaN        NaN       Yarra   -37.7996    144.9984   \n",
       "1          79.0     1900.0       Yarra   -37.8079    144.9934   \n",
       "2         150.0     1900.0       Yarra   -37.8093    144.9944   \n",
       "3           NaN        NaN       Yarra   -37.7969    144.9969   \n",
       "4         142.0     2014.0       Yarra   -37.8072    144.9941   \n",
       "\n",
       "              Regionname  Propertycount  \n",
       "0  Northern Metropolitan           4019  \n",
       "1  Northern Metropolitan           4019  \n",
       "2  Northern Metropolitan           4019  \n",
       "3  Northern Metropolitan           4019  \n",
       "4  Northern Metropolitan           4019  "
      ]
     },
     "execution_count": 2,
     "metadata": {},
     "output_type": "execute_result"
    }
   ],
   "source": [
    "# Read the input file\n",
    "train=pd.read_csv('Housing_Prices.csv')\n",
    "df_raw=train.copy()\n",
    "train.head()"
   ]
  },
  {
   "cell_type": "code",
   "execution_count": 3,
   "metadata": {
    "colab": {
     "base_uri": "https://localhost:8080/"
    },
    "id": "EJWW6uMkAqZw",
    "outputId": "7c2f88a7-e723-4d00-a11a-fb93fb9fbcda"
   },
   "outputs": [
    {
     "name": "stdout",
     "output_type": "stream",
     "text": [
      "<class 'pandas.core.frame.DataFrame'>\n",
      "RangeIndex: 13580 entries, 0 to 13579\n",
      "Data columns (total 21 columns):\n",
      " #   Column         Non-Null Count  Dtype  \n",
      "---  ------         --------------  -----  \n",
      " 0   Suburb         13580 non-null  object \n",
      " 1   Address        13580 non-null  object \n",
      " 2   Rooms          13580 non-null  int64  \n",
      " 3   Type           13580 non-null  object \n",
      " 4   Price          13580 non-null  int64  \n",
      " 5   Method         13580 non-null  object \n",
      " 6   SellerG        13580 non-null  object \n",
      " 7   Date           13580 non-null  object \n",
      " 8   Distance       13580 non-null  float64\n",
      " 9   Postcode       13580 non-null  int64  \n",
      " 10  Bedroom2       13580 non-null  int64  \n",
      " 11  Bathroom       13580 non-null  int64  \n",
      " 12  Car            13518 non-null  float64\n",
      " 13  Landsize       13580 non-null  int64  \n",
      " 14  BuildingArea   7130 non-null   float64\n",
      " 15  YearBuilt      8205 non-null   float64\n",
      " 16  CouncilArea    12211 non-null  object \n",
      " 17  Lattitude      13580 non-null  float64\n",
      " 18  Longtitude     13580 non-null  float64\n",
      " 19  Regionname     13580 non-null  object \n",
      " 20  Propertycount  13580 non-null  int64  \n",
      "dtypes: float64(6), int64(7), object(8)\n",
      "memory usage: 2.2+ MB\n"
     ]
    }
   ],
   "source": [
    "# Check the datatype and non-null values in each variable\n",
    "train.info()"
   ]
  },
  {
   "cell_type": "code",
   "execution_count": 4,
   "metadata": {
    "colab": {
     "base_uri": "https://localhost:8080/"
    },
    "id": "auqnIeZ9AqZw",
    "outputId": "48e6db72-e637-40fc-a71c-5df6b6294986"
   },
   "outputs": [
    {
     "data": {
      "text/plain": [
       "(13580, 21)"
      ]
     },
     "execution_count": 4,
     "metadata": {},
     "output_type": "execute_result"
    }
   ],
   "source": [
    "# Check data size\n",
    "train.shape"
   ]
  },
  {
   "cell_type": "code",
   "execution_count": 5,
   "metadata": {
    "colab": {
     "base_uri": "https://localhost:8080/"
    },
    "id": "1OrbnMLbAqZx",
    "outputId": "5f3afa20-3608-4db5-88b0-ab5447e51869"
   },
   "outputs": [
    {
     "data": {
      "text/plain": [
       "Index(['Suburb', 'Address', 'Rooms', 'Type', 'Price', 'Method', 'SellerG',\n",
       "       'Date', 'Distance', 'Postcode', 'Bedroom2', 'Bathroom', 'Car',\n",
       "       'Landsize', 'BuildingArea', 'YearBuilt', 'CouncilArea', 'Lattitude',\n",
       "       'Longtitude', 'Regionname', 'Propertycount'],\n",
       "      dtype='object')"
      ]
     },
     "execution_count": 5,
     "metadata": {},
     "output_type": "execute_result"
    }
   ],
   "source": [
    "# Check the name of all the columns\n",
    "train.columns"
   ]
  },
  {
   "cell_type": "code",
   "execution_count": 6,
   "metadata": {
    "colab": {
     "base_uri": "https://localhost:8080/",
     "height": 432
    },
    "id": "dRONmzW6AqZx",
    "outputId": "4643ec1b-4d38-4d9f-c669-8b015617c644"
   },
   "outputs": [
    {
     "data": {
      "text/html": [
       "<div>\n",
       "<style scoped>\n",
       "    .dataframe tbody tr th:only-of-type {\n",
       "        vertical-align: middle;\n",
       "    }\n",
       "\n",
       "    .dataframe tbody tr th {\n",
       "        vertical-align: top;\n",
       "    }\n",
       "\n",
       "    .dataframe thead th {\n",
       "        text-align: right;\n",
       "    }\n",
       "</style>\n",
       "<table border=\"1\" class=\"dataframe\">\n",
       "  <thead>\n",
       "    <tr style=\"text-align: right;\">\n",
       "      <th></th>\n",
       "      <th>count</th>\n",
       "      <th>mean</th>\n",
       "      <th>std</th>\n",
       "      <th>min</th>\n",
       "      <th>25%</th>\n",
       "      <th>50%</th>\n",
       "      <th>75%</th>\n",
       "      <th>max</th>\n",
       "    </tr>\n",
       "  </thead>\n",
       "  <tbody>\n",
       "    <tr>\n",
       "      <th>Rooms</th>\n",
       "      <td>13580.0</td>\n",
       "      <td>2.937997e+00</td>\n",
       "      <td>0.955748</td>\n",
       "      <td>1.00000</td>\n",
       "      <td>2.000000</td>\n",
       "      <td>3.000000</td>\n",
       "      <td>3.000000e+00</td>\n",
       "      <td>1.000000e+01</td>\n",
       "    </tr>\n",
       "    <tr>\n",
       "      <th>Price</th>\n",
       "      <td>13580.0</td>\n",
       "      <td>1.075684e+06</td>\n",
       "      <td>639310.724296</td>\n",
       "      <td>85000.00000</td>\n",
       "      <td>650000.000000</td>\n",
       "      <td>903000.000000</td>\n",
       "      <td>1.330000e+06</td>\n",
       "      <td>9.000000e+06</td>\n",
       "    </tr>\n",
       "    <tr>\n",
       "      <th>Distance</th>\n",
       "      <td>13580.0</td>\n",
       "      <td>1.013778e+01</td>\n",
       "      <td>5.868725</td>\n",
       "      <td>0.00000</td>\n",
       "      <td>6.100000</td>\n",
       "      <td>9.200000</td>\n",
       "      <td>1.300000e+01</td>\n",
       "      <td>4.810000e+01</td>\n",
       "    </tr>\n",
       "    <tr>\n",
       "      <th>Postcode</th>\n",
       "      <td>13580.0</td>\n",
       "      <td>3.105302e+03</td>\n",
       "      <td>90.676964</td>\n",
       "      <td>3000.00000</td>\n",
       "      <td>3044.000000</td>\n",
       "      <td>3084.000000</td>\n",
       "      <td>3.148000e+03</td>\n",
       "      <td>3.977000e+03</td>\n",
       "    </tr>\n",
       "    <tr>\n",
       "      <th>Bedroom2</th>\n",
       "      <td>13580.0</td>\n",
       "      <td>2.914728e+00</td>\n",
       "      <td>0.965921</td>\n",
       "      <td>0.00000</td>\n",
       "      <td>2.000000</td>\n",
       "      <td>3.000000</td>\n",
       "      <td>3.000000e+00</td>\n",
       "      <td>2.000000e+01</td>\n",
       "    </tr>\n",
       "    <tr>\n",
       "      <th>Bathroom</th>\n",
       "      <td>13580.0</td>\n",
       "      <td>1.534242e+00</td>\n",
       "      <td>0.691712</td>\n",
       "      <td>0.00000</td>\n",
       "      <td>1.000000</td>\n",
       "      <td>1.000000</td>\n",
       "      <td>2.000000e+00</td>\n",
       "      <td>8.000000e+00</td>\n",
       "    </tr>\n",
       "    <tr>\n",
       "      <th>Car</th>\n",
       "      <td>13518.0</td>\n",
       "      <td>1.610075e+00</td>\n",
       "      <td>0.962634</td>\n",
       "      <td>0.00000</td>\n",
       "      <td>1.000000</td>\n",
       "      <td>2.000000</td>\n",
       "      <td>2.000000e+00</td>\n",
       "      <td>1.000000e+01</td>\n",
       "    </tr>\n",
       "    <tr>\n",
       "      <th>Landsize</th>\n",
       "      <td>13580.0</td>\n",
       "      <td>5.584161e+02</td>\n",
       "      <td>3990.669241</td>\n",
       "      <td>0.00000</td>\n",
       "      <td>177.000000</td>\n",
       "      <td>440.000000</td>\n",
       "      <td>6.510000e+02</td>\n",
       "      <td>4.330140e+05</td>\n",
       "    </tr>\n",
       "    <tr>\n",
       "      <th>BuildingArea</th>\n",
       "      <td>7130.0</td>\n",
       "      <td>1.519676e+02</td>\n",
       "      <td>541.014538</td>\n",
       "      <td>0.00000</td>\n",
       "      <td>93.000000</td>\n",
       "      <td>126.000000</td>\n",
       "      <td>1.740000e+02</td>\n",
       "      <td>4.451500e+04</td>\n",
       "    </tr>\n",
       "    <tr>\n",
       "      <th>YearBuilt</th>\n",
       "      <td>8205.0</td>\n",
       "      <td>1.964684e+03</td>\n",
       "      <td>37.273762</td>\n",
       "      <td>1196.00000</td>\n",
       "      <td>1940.000000</td>\n",
       "      <td>1970.000000</td>\n",
       "      <td>1.999000e+03</td>\n",
       "      <td>2.018000e+03</td>\n",
       "    </tr>\n",
       "    <tr>\n",
       "      <th>Lattitude</th>\n",
       "      <td>13580.0</td>\n",
       "      <td>-3.780920e+01</td>\n",
       "      <td>0.079260</td>\n",
       "      <td>-38.18255</td>\n",
       "      <td>-37.856822</td>\n",
       "      <td>-37.802355</td>\n",
       "      <td>-3.775640e+01</td>\n",
       "      <td>-3.740853e+01</td>\n",
       "    </tr>\n",
       "    <tr>\n",
       "      <th>Longtitude</th>\n",
       "      <td>13580.0</td>\n",
       "      <td>1.449952e+02</td>\n",
       "      <td>0.103916</td>\n",
       "      <td>144.43181</td>\n",
       "      <td>144.929600</td>\n",
       "      <td>145.000100</td>\n",
       "      <td>1.450583e+02</td>\n",
       "      <td>1.455264e+02</td>\n",
       "    </tr>\n",
       "    <tr>\n",
       "      <th>Propertycount</th>\n",
       "      <td>13580.0</td>\n",
       "      <td>7.454417e+03</td>\n",
       "      <td>4378.581772</td>\n",
       "      <td>249.00000</td>\n",
       "      <td>4380.000000</td>\n",
       "      <td>6555.000000</td>\n",
       "      <td>1.033100e+04</td>\n",
       "      <td>2.165000e+04</td>\n",
       "    </tr>\n",
       "  </tbody>\n",
       "</table>\n",
       "</div>"
      ],
      "text/plain": [
       "                 count          mean            std          min  \\\n",
       "Rooms          13580.0  2.937997e+00       0.955748      1.00000   \n",
       "Price          13580.0  1.075684e+06  639310.724296  85000.00000   \n",
       "Distance       13580.0  1.013778e+01       5.868725      0.00000   \n",
       "Postcode       13580.0  3.105302e+03      90.676964   3000.00000   \n",
       "Bedroom2       13580.0  2.914728e+00       0.965921      0.00000   \n",
       "Bathroom       13580.0  1.534242e+00       0.691712      0.00000   \n",
       "Car            13518.0  1.610075e+00       0.962634      0.00000   \n",
       "Landsize       13580.0  5.584161e+02    3990.669241      0.00000   \n",
       "BuildingArea    7130.0  1.519676e+02     541.014538      0.00000   \n",
       "YearBuilt       8205.0  1.964684e+03      37.273762   1196.00000   \n",
       "Lattitude      13580.0 -3.780920e+01       0.079260    -38.18255   \n",
       "Longtitude     13580.0  1.449952e+02       0.103916    144.43181   \n",
       "Propertycount  13580.0  7.454417e+03    4378.581772    249.00000   \n",
       "\n",
       "                         25%            50%           75%           max  \n",
       "Rooms               2.000000       3.000000  3.000000e+00  1.000000e+01  \n",
       "Price          650000.000000  903000.000000  1.330000e+06  9.000000e+06  \n",
       "Distance            6.100000       9.200000  1.300000e+01  4.810000e+01  \n",
       "Postcode         3044.000000    3084.000000  3.148000e+03  3.977000e+03  \n",
       "Bedroom2            2.000000       3.000000  3.000000e+00  2.000000e+01  \n",
       "Bathroom            1.000000       1.000000  2.000000e+00  8.000000e+00  \n",
       "Car                 1.000000       2.000000  2.000000e+00  1.000000e+01  \n",
       "Landsize          177.000000     440.000000  6.510000e+02  4.330140e+05  \n",
       "BuildingArea       93.000000     126.000000  1.740000e+02  4.451500e+04  \n",
       "YearBuilt        1940.000000    1970.000000  1.999000e+03  2.018000e+03  \n",
       "Lattitude         -37.856822     -37.802355 -3.775640e+01 -3.740853e+01  \n",
       "Longtitude        144.929600     145.000100  1.450583e+02  1.455264e+02  \n",
       "Propertycount    4380.000000    6555.000000  1.033100e+04  2.165000e+04  "
      ]
     },
     "execution_count": 6,
     "metadata": {},
     "output_type": "execute_result"
    }
   ],
   "source": [
    "# Check min and max values of numeric variables\n",
    "train.describe().transpose()"
   ]
  },
  {
   "cell_type": "markdown",
   "metadata": {
    "id": "vPhrM1tuAqZy"
   },
   "source": [
    "### Missing Values"
   ]
  },
  {
   "cell_type": "code",
   "execution_count": 8,
   "metadata": {
    "colab": {
     "base_uri": "https://localhost:8080/"
    },
    "id": "Hpu1roYkAqZy",
    "outputId": "da3f2cbb-d18c-4312-8987-a0780990018b"
   },
   "outputs": [
    {
     "name": "stdout",
     "output_type": "stream",
     "text": [
      " Car has 62 missing values and 0.457% missing values\n",
      " BuildingArea has 6450 missing values and 47.496% missing values\n",
      " YearBuilt has 5375 missing values and 39.58% missing values\n",
      " CouncilArea has 1369 missing values and 10.081% missing values\n"
     ]
    }
   ],
   "source": [
    "# Create a temporary list comprehension of all features in which values are missing\n",
    "\n",
    "features_with_na=[features for features in train.columns if train[features].isnull().sum()>0]\n",
    "\n",
    "# Print % of missing values\n",
    "for features in features_with_na:\n",
    "    print(\" {} has {} missing values and {}% missing values\".\n",
    "          format(features, train[features].isnull().sum(), np.round(train[features].isnull().mean()*100,3)))"
   ]
  },
  {
   "cell_type": "markdown",
   "metadata": {
    "id": "RbdaTh_CAqZy"
   },
   "source": [
    "### Numeric Variables"
   ]
  },
  {
   "cell_type": "code",
   "execution_count": 9,
   "metadata": {
    "colab": {
     "base_uri": "https://localhost:8080/",
     "height": 212
    },
    "id": "qYXH7f5eAqZz",
    "outputId": "a124ffd9-9f2e-4ed1-e4c9-284a810acfdd"
   },
   "outputs": [
    {
     "name": "stdout",
     "output_type": "stream",
     "text": [
      "Number of Numeric variables are 13\n"
     ]
    },
    {
     "data": {
      "text/html": [
       "<div>\n",
       "<style scoped>\n",
       "    .dataframe tbody tr th:only-of-type {\n",
       "        vertical-align: middle;\n",
       "    }\n",
       "\n",
       "    .dataframe tbody tr th {\n",
       "        vertical-align: top;\n",
       "    }\n",
       "\n",
       "    .dataframe thead th {\n",
       "        text-align: right;\n",
       "    }\n",
       "</style>\n",
       "<table border=\"1\" class=\"dataframe\">\n",
       "  <thead>\n",
       "    <tr style=\"text-align: right;\">\n",
       "      <th></th>\n",
       "      <th>Rooms</th>\n",
       "      <th>Price</th>\n",
       "      <th>Distance</th>\n",
       "      <th>Postcode</th>\n",
       "      <th>Bedroom2</th>\n",
       "      <th>Bathroom</th>\n",
       "      <th>Car</th>\n",
       "      <th>Landsize</th>\n",
       "      <th>BuildingArea</th>\n",
       "      <th>YearBuilt</th>\n",
       "      <th>Lattitude</th>\n",
       "      <th>Longtitude</th>\n",
       "      <th>Propertycount</th>\n",
       "    </tr>\n",
       "  </thead>\n",
       "  <tbody>\n",
       "    <tr>\n",
       "      <th>0</th>\n",
       "      <td>2</td>\n",
       "      <td>1480000</td>\n",
       "      <td>2.5</td>\n",
       "      <td>3067</td>\n",
       "      <td>2</td>\n",
       "      <td>1</td>\n",
       "      <td>1.0</td>\n",
       "      <td>202</td>\n",
       "      <td>NaN</td>\n",
       "      <td>NaN</td>\n",
       "      <td>-37.7996</td>\n",
       "      <td>144.9984</td>\n",
       "      <td>4019</td>\n",
       "    </tr>\n",
       "    <tr>\n",
       "      <th>1</th>\n",
       "      <td>2</td>\n",
       "      <td>1035000</td>\n",
       "      <td>2.5</td>\n",
       "      <td>3067</td>\n",
       "      <td>2</td>\n",
       "      <td>1</td>\n",
       "      <td>0.0</td>\n",
       "      <td>156</td>\n",
       "      <td>79.0</td>\n",
       "      <td>1900.0</td>\n",
       "      <td>-37.8079</td>\n",
       "      <td>144.9934</td>\n",
       "      <td>4019</td>\n",
       "    </tr>\n",
       "    <tr>\n",
       "      <th>2</th>\n",
       "      <td>3</td>\n",
       "      <td>1465000</td>\n",
       "      <td>2.5</td>\n",
       "      <td>3067</td>\n",
       "      <td>3</td>\n",
       "      <td>2</td>\n",
       "      <td>0.0</td>\n",
       "      <td>134</td>\n",
       "      <td>150.0</td>\n",
       "      <td>1900.0</td>\n",
       "      <td>-37.8093</td>\n",
       "      <td>144.9944</td>\n",
       "      <td>4019</td>\n",
       "    </tr>\n",
       "    <tr>\n",
       "      <th>3</th>\n",
       "      <td>3</td>\n",
       "      <td>850000</td>\n",
       "      <td>2.5</td>\n",
       "      <td>3067</td>\n",
       "      <td>3</td>\n",
       "      <td>2</td>\n",
       "      <td>1.0</td>\n",
       "      <td>94</td>\n",
       "      <td>NaN</td>\n",
       "      <td>NaN</td>\n",
       "      <td>-37.7969</td>\n",
       "      <td>144.9969</td>\n",
       "      <td>4019</td>\n",
       "    </tr>\n",
       "    <tr>\n",
       "      <th>4</th>\n",
       "      <td>4</td>\n",
       "      <td>1600000</td>\n",
       "      <td>2.5</td>\n",
       "      <td>3067</td>\n",
       "      <td>3</td>\n",
       "      <td>1</td>\n",
       "      <td>2.0</td>\n",
       "      <td>120</td>\n",
       "      <td>142.0</td>\n",
       "      <td>2014.0</td>\n",
       "      <td>-37.8072</td>\n",
       "      <td>144.9941</td>\n",
       "      <td>4019</td>\n",
       "    </tr>\n",
       "  </tbody>\n",
       "</table>\n",
       "</div>"
      ],
      "text/plain": [
       "   Rooms    Price  Distance  Postcode  Bedroom2  Bathroom  Car  Landsize  \\\n",
       "0      2  1480000       2.5      3067         2         1  1.0       202   \n",
       "1      2  1035000       2.5      3067         2         1  0.0       156   \n",
       "2      3  1465000       2.5      3067         3         2  0.0       134   \n",
       "3      3   850000       2.5      3067         3         2  1.0        94   \n",
       "4      4  1600000       2.5      3067         3         1  2.0       120   \n",
       "\n",
       "   BuildingArea  YearBuilt  Lattitude  Longtitude  Propertycount  \n",
       "0           NaN        NaN   -37.7996    144.9984           4019  \n",
       "1          79.0     1900.0   -37.8079    144.9934           4019  \n",
       "2         150.0     1900.0   -37.8093    144.9944           4019  \n",
       "3           NaN        NaN   -37.7969    144.9969           4019  \n",
       "4         142.0     2014.0   -37.8072    144.9941           4019  "
      ]
     },
     "execution_count": 9,
     "metadata": {
      "tags": []
     },
     "output_type": "execute_result"
    }
   ],
   "source": [
    "# Create a list comprehension of numeric variables\n",
    "# Character and string variables are object type\n",
    "\n",
    "numeric_feature=[features for features in train.columns if train[features].dtype !='O']\n",
    "\n",
    "print(\"Number of Numeric variables are\", len(numeric_feature))\n",
    "train[numeric_feature].head()"
   ]
  },
  {
   "cell_type": "markdown",
   "metadata": {
    "id": "dew737lGAqZz"
   },
   "source": [
    "### Temporal Variables"
   ]
  },
  {
   "cell_type": "code",
   "execution_count": 10,
   "metadata": {
    "colab": {
     "base_uri": "https://localhost:8080/",
     "height": 212
    },
    "id": "zlaH4nk-AqZ0",
    "outputId": "094f19e0-368b-4720-c76e-d7babd9f65ec"
   },
   "outputs": [
    {
     "name": "stdout",
     "output_type": "stream",
     "text": [
      "Number of Temporal variables are 1\n"
     ]
    },
    {
     "data": {
      "text/html": [
       "<div>\n",
       "<style scoped>\n",
       "    .dataframe tbody tr th:only-of-type {\n",
       "        vertical-align: middle;\n",
       "    }\n",
       "\n",
       "    .dataframe tbody tr th {\n",
       "        vertical-align: top;\n",
       "    }\n",
       "\n",
       "    .dataframe thead th {\n",
       "        text-align: right;\n",
       "    }\n",
       "</style>\n",
       "<table border=\"1\" class=\"dataframe\">\n",
       "  <thead>\n",
       "    <tr style=\"text-align: right;\">\n",
       "      <th></th>\n",
       "      <th>YearBuilt</th>\n",
       "    </tr>\n",
       "  </thead>\n",
       "  <tbody>\n",
       "    <tr>\n",
       "      <th>0</th>\n",
       "      <td>NaN</td>\n",
       "    </tr>\n",
       "    <tr>\n",
       "      <th>1</th>\n",
       "      <td>1900.0</td>\n",
       "    </tr>\n",
       "    <tr>\n",
       "      <th>2</th>\n",
       "      <td>1900.0</td>\n",
       "    </tr>\n",
       "    <tr>\n",
       "      <th>3</th>\n",
       "      <td>NaN</td>\n",
       "    </tr>\n",
       "    <tr>\n",
       "      <th>4</th>\n",
       "      <td>2014.0</td>\n",
       "    </tr>\n",
       "  </tbody>\n",
       "</table>\n",
       "</div>"
      ],
      "text/plain": [
       "   YearBuilt\n",
       "0        NaN\n",
       "1     1900.0\n",
       "2     1900.0\n",
       "3        NaN\n",
       "4     2014.0"
      ]
     },
     "execution_count": 10,
     "metadata": {
      "tags": []
     },
     "output_type": "execute_result"
    }
   ],
   "source": [
    "# These are date time variables \n",
    "temporal_feature=[features for features in numeric_feature if 'Year'in features or 'Date' in features]\n",
    "print(\"Number of Temporal variables are\", len(temporal_feature))\n",
    "train[temporal_feature].head()"
   ]
  },
  {
   "cell_type": "code",
   "execution_count": 11,
   "metadata": {
    "colab": {
     "base_uri": "https://localhost:8080/",
     "height": 312
    },
    "id": "A_Kol57JAqZ0",
    "outputId": "04cf9683-4ddf-42bf-b7ea-cbcc3e855c95"
   },
   "outputs": [
    {
     "data": {
      "text/plain": [
       "Text(0.5, 1.0, 'House Price vs YearBuilt')"
      ]
     },
     "execution_count": 11,
     "metadata": {
      "tags": []
     },
     "output_type": "execute_result"
    },
    {
     "data": {
      "image/png": "[encoded data removed]",
      "text/plain": [
       "<Figure size 432x288 with 1 Axes>"
      ]
     },
     "metadata": {
      "needs_background": "light",
      "tags": []
     },
     "output_type": "display_data"
    }
   ],
   "source": [
    "#Check whether there is a relation between year the house is built and the price\n",
    "\n",
    "train.groupby('YearBuilt')['Price'].median().plot()\n",
    "plt.xlabel('Year Built')\n",
    "plt.ylabel('Median House Price')\n",
    "plt.title(\"House Price vs YearBuilt\")"
   ]
  },
  {
   "cell_type": "markdown",
   "metadata": {
    "id": "Nooi-PlaAqZ4"
   },
   "source": [
    "### Discrete Variables"
   ]
  },
  {
   "cell_type": "code",
   "execution_count": 12,
   "metadata": {
    "colab": {
     "base_uri": "https://localhost:8080/",
     "height": 212
    },
    "id": "P1FI8q1HAqZ4",
    "outputId": "ca49ff39-795f-4949-d358-f0536dc8689d"
   },
   "outputs": [
    {
     "name": "stdout",
     "output_type": "stream",
     "text": [
      "Number of Discrete Variables are 4\n"
     ]
    },
    {
     "data": {
      "text/html": [
       "<div>\n",
       "<style scoped>\n",
       "    .dataframe tbody tr th:only-of-type {\n",
       "        vertical-align: middle;\n",
       "    }\n",
       "\n",
       "    .dataframe tbody tr th {\n",
       "        vertical-align: top;\n",
       "    }\n",
       "\n",
       "    .dataframe thead th {\n",
       "        text-align: right;\n",
       "    }\n",
       "</style>\n",
       "<table border=\"1\" class=\"dataframe\">\n",
       "  <thead>\n",
       "    <tr style=\"text-align: right;\">\n",
       "      <th></th>\n",
       "      <th>Rooms</th>\n",
       "      <th>Bedroom2</th>\n",
       "      <th>Bathroom</th>\n",
       "      <th>Car</th>\n",
       "    </tr>\n",
       "  </thead>\n",
       "  <tbody>\n",
       "    <tr>\n",
       "      <th>0</th>\n",
       "      <td>2</td>\n",
       "      <td>2</td>\n",
       "      <td>1</td>\n",
       "      <td>1.0</td>\n",
       "    </tr>\n",
       "    <tr>\n",
       "      <th>1</th>\n",
       "      <td>2</td>\n",
       "      <td>2</td>\n",
       "      <td>1</td>\n",
       "      <td>0.0</td>\n",
       "    </tr>\n",
       "    <tr>\n",
       "      <th>2</th>\n",
       "      <td>3</td>\n",
       "      <td>3</td>\n",
       "      <td>2</td>\n",
       "      <td>0.0</td>\n",
       "    </tr>\n",
       "    <tr>\n",
       "      <th>3</th>\n",
       "      <td>3</td>\n",
       "      <td>3</td>\n",
       "      <td>2</td>\n",
       "      <td>1.0</td>\n",
       "    </tr>\n",
       "    <tr>\n",
       "      <th>4</th>\n",
       "      <td>4</td>\n",
       "      <td>3</td>\n",
       "      <td>1</td>\n",
       "      <td>2.0</td>\n",
       "    </tr>\n",
       "  </tbody>\n",
       "</table>\n",
       "</div>"
      ],
      "text/plain": [
       "   Rooms  Bedroom2  Bathroom  Car\n",
       "0      2         2         1  1.0\n",
       "1      2         2         1  0.0\n",
       "2      3         3         2  0.0\n",
       "3      3         3         2  1.0\n",
       "4      4         3         1  2.0"
      ]
     },
     "execution_count": 12,
     "metadata": {
      "tags": []
     },
     "output_type": "execute_result"
    }
   ],
   "source": [
    "#I am considering all variables with less than 25 unique values as discrete varaibles\n",
    "\n",
    "discrete_feature=[features for features in numeric_feature if len(train[features].unique()) <25 and \n",
    "                  features not in temporal_feature]\n",
    "\n",
    "print (\"Number of Discrete Variables are\", len(discrete_feature))\n",
    "train[discrete_feature].head()"
   ]
  },
  {
   "cell_type": "code",
   "execution_count": 13,
   "metadata": {
    "colab": {
     "base_uri": "https://localhost:8080/",
     "height": 1000
    },
    "id": "vY2N-APWAqZ4",
    "outputId": "21aa800b-6402-4a46-db99-a0e81db14765"
   },
   "outputs": [
    {
     "data": {
      "image/png": "[encoded data removed]",
      "text/plain": [
       "<Figure size 432x288 with 1 Axes>"
      ]
     },
     "metadata": {
      "needs_background": "light",
      "tags": []
     },
     "output_type": "display_data"
    },
    {
     "data": {
      "image/png": "[encoded data removed]",
      "text/plain": [
       "<Figure size 432x288 with 1 Axes>"
      ]
     },
     "metadata": {
      "needs_background": "light",
      "tags": []
     },
     "output_type": "display_data"
    },
    {
     "data": {
      "image/png": "[encoded data removed]",
      "text/plain": [
       "<Figure size 432x288 with 1 Axes>"
      ]
     },
     "metadata": {
      "needs_background": "light",
      "tags": []
     },
     "output_type": "display_data"
    },
    {
     "data": {
      "image/png": "[encoded data removed]",
      "text/plain": [
       "<Figure size 432x288 with 1 Axes>"
      ]
     },
     "metadata": {
      "needs_background": "light",
      "tags": []
     },
     "output_type": "display_data"
    }
   ],
   "source": [
    "for feature in discrete_feature:\n",
    "    data=train.copy()\n",
    "    data.groupby(feature)['Price'].median().plot.bar()\n",
    "    plt.xlabel(feature)\n",
    "    plt.ylabel('Price')\n",
    "    plt.title(feature)\n",
    "    plt.show()"
   ]
  },
  {
   "cell_type": "markdown",
   "metadata": {
    "id": "X6dMY693AqZ5"
   },
   "source": [
    "### Continuous Variables"
   ]
  },
  {
   "cell_type": "code",
   "execution_count": 14,
   "metadata": {
    "colab": {
     "base_uri": "https://localhost:8080/",
     "height": 212
    },
    "id": "72YLL3umAqZ5",
    "outputId": "52fce671-7c09-44a6-f42e-ae37cc479e44"
   },
   "outputs": [
    {
     "name": "stdout",
     "output_type": "stream",
     "text": [
      "Number of Continuous Variables are 8\n"
     ]
    },
    {
     "data": {
      "text/html": [
       "<div>\n",
       "<style scoped>\n",
       "    .dataframe tbody tr th:only-of-type {\n",
       "        vertical-align: middle;\n",
       "    }\n",
       "\n",
       "    .dataframe tbody tr th {\n",
       "        vertical-align: top;\n",
       "    }\n",
       "\n",
       "    .dataframe thead th {\n",
       "        text-align: right;\n",
       "    }\n",
       "</style>\n",
       "<table border=\"1\" class=\"dataframe\">\n",
       "  <thead>\n",
       "    <tr style=\"text-align: right;\">\n",
       "      <th></th>\n",
       "      <th>Price</th>\n",
       "      <th>Distance</th>\n",
       "      <th>Postcode</th>\n",
       "      <th>Landsize</th>\n",
       "      <th>BuildingArea</th>\n",
       "      <th>Lattitude</th>\n",
       "      <th>Longtitude</th>\n",
       "      <th>Propertycount</th>\n",
       "    </tr>\n",
       "  </thead>\n",
       "  <tbody>\n",
       "    <tr>\n",
       "      <th>0</th>\n",
       "      <td>1480000</td>\n",
       "      <td>2.5</td>\n",
       "      <td>3067</td>\n",
       "      <td>202</td>\n",
       "      <td>NaN</td>\n",
       "      <td>-37.7996</td>\n",
       "      <td>144.9984</td>\n",
       "      <td>4019</td>\n",
       "    </tr>\n",
       "    <tr>\n",
       "      <th>1</th>\n",
       "      <td>1035000</td>\n",
       "      <td>2.5</td>\n",
       "      <td>3067</td>\n",
       "      <td>156</td>\n",
       "      <td>79.0</td>\n",
       "      <td>-37.8079</td>\n",
       "      <td>144.9934</td>\n",
       "      <td>4019</td>\n",
       "    </tr>\n",
       "    <tr>\n",
       "      <th>2</th>\n",
       "      <td>1465000</td>\n",
       "      <td>2.5</td>\n",
       "      <td>3067</td>\n",
       "      <td>134</td>\n",
       "      <td>150.0</td>\n",
       "      <td>-37.8093</td>\n",
       "      <td>144.9944</td>\n",
       "      <td>4019</td>\n",
       "    </tr>\n",
       "    <tr>\n",
       "      <th>3</th>\n",
       "      <td>850000</td>\n",
       "      <td>2.5</td>\n",
       "      <td>3067</td>\n",
       "      <td>94</td>\n",
       "      <td>NaN</td>\n",
       "      <td>-37.7969</td>\n",
       "      <td>144.9969</td>\n",
       "      <td>4019</td>\n",
       "    </tr>\n",
       "    <tr>\n",
       "      <th>4</th>\n",
       "      <td>1600000</td>\n",
       "      <td>2.5</td>\n",
       "      <td>3067</td>\n",
       "      <td>120</td>\n",
       "      <td>142.0</td>\n",
       "      <td>-37.8072</td>\n",
       "      <td>144.9941</td>\n",
       "      <td>4019</td>\n",
       "    </tr>\n",
       "  </tbody>\n",
       "</table>\n",
       "</div>"
      ],
      "text/plain": [
       "     Price  Distance  Postcode  Landsize  BuildingArea  Lattitude  Longtitude  \\\n",
       "0  1480000       2.5      3067       202           NaN   -37.7996    144.9984   \n",
       "1  1035000       2.5      3067       156          79.0   -37.8079    144.9934   \n",
       "2  1465000       2.5      3067       134         150.0   -37.8093    144.9944   \n",
       "3   850000       2.5      3067        94           NaN   -37.7969    144.9969   \n",
       "4  1600000       2.5      3067       120         142.0   -37.8072    144.9941   \n",
       "\n",
       "   Propertycount  \n",
       "0           4019  \n",
       "1           4019  \n",
       "2           4019  \n",
       "3           4019  \n",
       "4           4019  "
      ]
     },
     "execution_count": 14,
     "metadata": {
      "tags": []
     },
     "output_type": "execute_result"
    }
   ],
   "source": [
    "continuous_feature=[feature for feature in numeric_feature if feature not in discrete_feature + temporal_feature]\n",
    "print(\"Number of Continuous Variables are\", len(continuous_feature))\n",
    "train[continuous_feature].head()"
   ]
  },
  {
   "cell_type": "code",
   "execution_count": 15,
   "metadata": {
    "colab": {
     "base_uri": "https://localhost:8080/",
     "height": 1000
    },
    "id": "XGQq82IJAqZ5",
    "outputId": "0a5de7d6-55aa-4c3a-85c8-18b8c60cc882"
   },
   "outputs": [
    {
     "data": {
      "image/png": "[encoded data removed]",
      "text/plain": [
       "<Figure size 432x288 with 1 Axes>"
      ]
     },
     "metadata": {
      "needs_background": "light",
      "tags": []
     },
     "output_type": "display_data"
    },
    {
     "data": {
      "image/png": "[encoded data removed]",
      "text/plain": [
       "<Figure size 432x288 with 1 Axes>"
      ]
     },
     "metadata": {
      "needs_background": "light",
      "tags": []
     },
     "output_type": "display_data"
    },
    {
     "data": {
      "image/png": "[encoded data removed]",
      "text/plain": [
       "<Figure size 432x288 with 1 Axes>"
      ]
     },
     "metadata": {
      "needs_background": "light",
      "tags": []
     },
     "output_type": "display_data"
    },
    {
     "data": {
      "image/png": "[encoded data removed]",
      "text/plain": [
       "<Figure size 432x288 with 1 Axes>"
      ]
     },
     "metadata": {
      "needs_background": "light",
      "tags": []
     },
     "output_type": "display_data"
    },
    {
     "data": {
      "image/png": "[encoded data removed]",
      "text/plain": [
       "<Figure size 432x288 with 1 Axes>"
      ]
     },
     "metadata": {
      "needs_background": "light",
      "tags": []
     },
     "output_type": "display_data"
    },
    {
     "data": {
      "image/png": "[encoded data removed]",
      "text/plain": [
       "<Figure size 432x288 with 1 Axes>"
      ]
     },
     "metadata": {
      "needs_background": "light",
      "tags": []
     },
     "output_type": "display_data"
    },
    {
     "data": {
      "image/png": "[encoded data removed]",
      "text/plain": [
       "<Figure size 432x288 with 1 Axes>"
      ]
     },
     "metadata": {
      "needs_background": "light",
      "tags": []
     },
     "output_type": "display_data"
    },
    {
     "data": {
      "image/png": "[encoded data removed]",
      "text/plain": [
       "<Figure size 432x288 with 1 Axes>"
      ]
     },
     "metadata": {
      "needs_background": "light",
      "tags": []
     },
     "output_type": "display_data"
    }
   ],
   "source": [
    "for feature in continuous_feature:\n",
    "    data=train.copy()\n",
    "    data[feature].hist(bins=25)\n",
    "    plt.xlabel(feature)\n",
    "    plt.ylabel(\"Count\")\n",
    "    plt.title(feature)\n",
    "    plt.show()"
   ]
  },
  {
   "cell_type": "markdown",
   "metadata": {
    "id": "QHhtNqrCAqZ6"
   },
   "source": [
    "### Categorical Variables"
   ]
  },
  {
   "cell_type": "code",
   "execution_count": 17,
   "metadata": {
    "colab": {
     "base_uri": "https://localhost:8080/",
     "height": 212
    },
    "id": "5cNjJqijAqZ6",
    "outputId": "7c746fbc-945b-4d46-e824-98648b64d728"
   },
   "outputs": [
    {
     "name": "stdout",
     "output_type": "stream",
     "text": [
      "Number of Categorical Variables are  8\n"
     ]
    },
    {
     "data": {
      "text/html": [
       "<div>\n",
       "<style scoped>\n",
       "    .dataframe tbody tr th:only-of-type {\n",
       "        vertical-align: middle;\n",
       "    }\n",
       "\n",
       "    .dataframe tbody tr th {\n",
       "        vertical-align: top;\n",
       "    }\n",
       "\n",
       "    .dataframe thead th {\n",
       "        text-align: right;\n",
       "    }\n",
       "</style>\n",
       "<table border=\"1\" class=\"dataframe\">\n",
       "  <thead>\n",
       "    <tr style=\"text-align: right;\">\n",
       "      <th></th>\n",
       "      <th>Suburb</th>\n",
       "      <th>Address</th>\n",
       "      <th>Type</th>\n",
       "      <th>Method</th>\n",
       "      <th>SellerG</th>\n",
       "      <th>Date</th>\n",
       "      <th>CouncilArea</th>\n",
       "      <th>Regionname</th>\n",
       "    </tr>\n",
       "  </thead>\n",
       "  <tbody>\n",
       "    <tr>\n",
       "      <th>0</th>\n",
       "      <td>Abbotsford</td>\n",
       "      <td>85 Turner St</td>\n",
       "      <td>h</td>\n",
       "      <td>S</td>\n",
       "      <td>Biggin</td>\n",
       "      <td>03-12-2016</td>\n",
       "      <td>Yarra</td>\n",
       "      <td>Northern Metropolitan</td>\n",
       "    </tr>\n",
       "    <tr>\n",
       "      <th>1</th>\n",
       "      <td>Abbotsford</td>\n",
       "      <td>25 Bloomburg St</td>\n",
       "      <td>h</td>\n",
       "      <td>S</td>\n",
       "      <td>Biggin</td>\n",
       "      <td>04-02-2016</td>\n",
       "      <td>Yarra</td>\n",
       "      <td>Northern Metropolitan</td>\n",
       "    </tr>\n",
       "    <tr>\n",
       "      <th>2</th>\n",
       "      <td>Abbotsford</td>\n",
       "      <td>5 Charles St</td>\n",
       "      <td>h</td>\n",
       "      <td>SP</td>\n",
       "      <td>Biggin</td>\n",
       "      <td>04-03-2017</td>\n",
       "      <td>Yarra</td>\n",
       "      <td>Northern Metropolitan</td>\n",
       "    </tr>\n",
       "    <tr>\n",
       "      <th>3</th>\n",
       "      <td>Abbotsford</td>\n",
       "      <td>40 Federation La</td>\n",
       "      <td>h</td>\n",
       "      <td>PI</td>\n",
       "      <td>Biggin</td>\n",
       "      <td>04-03-2017</td>\n",
       "      <td>Yarra</td>\n",
       "      <td>Northern Metropolitan</td>\n",
       "    </tr>\n",
       "    <tr>\n",
       "      <th>4</th>\n",
       "      <td>Abbotsford</td>\n",
       "      <td>55a Park St</td>\n",
       "      <td>h</td>\n",
       "      <td>VB</td>\n",
       "      <td>Nelson</td>\n",
       "      <td>04-06-2016</td>\n",
       "      <td>Yarra</td>\n",
       "      <td>Northern Metropolitan</td>\n",
       "    </tr>\n",
       "  </tbody>\n",
       "</table>\n",
       "</div>"
      ],
      "text/plain": [
       "       Suburb           Address Type Method SellerG        Date CouncilArea  \\\n",
       "0  Abbotsford      85 Turner St    h      S  Biggin  03-12-2016       Yarra   \n",
       "1  Abbotsford   25 Bloomburg St    h      S  Biggin  04-02-2016       Yarra   \n",
       "2  Abbotsford      5 Charles St    h     SP  Biggin  04-03-2017       Yarra   \n",
       "3  Abbotsford  40 Federation La    h     PI  Biggin  04-03-2017       Yarra   \n",
       "4  Abbotsford       55a Park St    h     VB  Nelson  04-06-2016       Yarra   \n",
       "\n",
       "              Regionname  \n",
       "0  Northern Metropolitan  \n",
       "1  Northern Metropolitan  \n",
       "2  Northern Metropolitan  \n",
       "3  Northern Metropolitan  \n",
       "4  Northern Metropolitan  "
      ]
     },
     "execution_count": 17,
     "metadata": {
      "tags": []
     },
     "output_type": "execute_result"
    }
   ],
   "source": [
    "categorical_feature=[feature for feature in train.columns if train[feature].dtypes=='O']\n",
    "print(\"Number of Categorical Variables are \", len(categorical_feature))\n",
    "train[categorical_feature].head()"
   ]
  },
  {
   "cell_type": "code",
   "execution_count": 18,
   "metadata": {
    "colab": {
     "base_uri": "https://localhost:8080/"
    },
    "id": "U5E-fSVMAqZ6",
    "outputId": "767cea4c-b95f-420a-8a30-5760eb45b8e3"
   },
   "outputs": [
    {
     "name": "stdout",
     "output_type": "stream",
     "text": [
      "The feature is Suburb and number of categories are 314\n",
      "The feature is Address and number of categories are 13378\n",
      "The feature is Type and number of categories are 3\n",
      "The feature is Method and number of categories are 5\n",
      "The feature is SellerG and number of categories are 268\n",
      "The feature is Date and number of categories are 58\n",
      "The feature is CouncilArea and number of categories are 34\n",
      "The feature is Regionname and number of categories are 8\n"
     ]
    }
   ],
   "source": [
    "for feature in categorical_feature:\n",
    "    print('The feature is {} and number of categories are {}'.format(feature,len(train[feature].unique())))"
   ]
  },
  {
   "cell_type": "code",
   "execution_count": 19,
   "metadata": {
    "id": "feJ1Y4KaAqZ7"
   },
   "outputs": [],
   "source": [
    "drop_list = ['Suburb', 'Address', 'SellerG', 'Date', 'CouncilArea']\n",
    "data = train.drop(drop_list, axis=1)"
   ]
  },
  {
   "cell_type": "code",
   "execution_count": 20,
   "metadata": {
    "colab": {
     "base_uri": "https://localhost:8080/",
     "height": 979
    },
    "id": "6opT2tlZAqZ7",
    "outputId": "5f8d1d8a-405e-4fea-9271-4de349dd3bf8"
   },
   "outputs": [
    {
     "data": {
      "image/png": "[encoded data removed]",
      "text/plain": [
       "<Figure size 432x288 with 1 Axes>"
      ]
     },
     "metadata": {
      "needs_background": "light",
      "tags": []
     },
     "output_type": "display_data"
    },
    {
     "data": {
      "image/png": "[encoded data removed]",
      "text/plain": [
       "<Figure size 432x288 with 1 Axes>"
      ]
     },
     "metadata": {
      "needs_background": "light",
      "tags": []
     },
     "output_type": "display_data"
    },
    {
     "data": {
      "image/png": "[encoded data removed]",
      "text/plain": [
       "<Figure size 432x288 with 1 Axes>"
      ]
     },
     "metadata": {
      "needs_background": "light",
      "tags": []
     },
     "output_type": "display_data"
    }
   ],
   "source": [
    "categorical_feature=[feature for feature in data.columns if data[feature].dtypes=='O']\n",
    "\n",
    "for feature in categorical_feature:\n",
    "    data.groupby(feature)['Price'].median().plot.bar()\n",
    "    plt.xlabel(feature)\n",
    "    plt.ylabel('Price')\n",
    "    plt.title(feature)\n",
    "    plt.show()"
   ]
  },
  {
   "cell_type": "markdown",
   "metadata": {
    "id": "b5_mEQDJAqZ8"
   },
   "source": [
    "### Correlation Analysis"
   ]
  },
  {
   "cell_type": "code",
   "execution_count": 9,
   "metadata": {
    "colab": {
     "base_uri": "https://localhost:8080/",
     "height": 1000
    },
    "id": "reh9zAfiAqZ8",
    "outputId": "55649c4c-949e-476f-8c6c-ee2217f46859"
   },
   "outputs": [
    {
     "data": {
      "image/png": "[encoded data removed]",
      "text/plain": [
       "<Figure size 1440x1440 with 2 Axes>"
      ]
     },
     "metadata": {
      "needs_background": "light"
     },
     "output_type": "display_data"
    }
   ],
   "source": [
    "plt.figure(figsize=(20,20))\n",
    "sns.heatmap(train.corr(), annot=True, cmap='RdBu_r',\n",
    "            center=0, vmin=-1, vmax=1, linewidth=2, annot_kws={\"fontsize\":12},\n",
    "            square=False, cbar=True).set_title('Correlation matrix', fontsize=24, y=1.02);"
   ]
  },
  {
   "cell_type": "markdown",
   "metadata": {
    "id": "GL6o8VysAqZ8"
   },
   "source": [
    "# Feature Engineering"
   ]
  },
  {
   "cell_type": "markdown",
   "metadata": {
    "id": "HAbejtxuAqZ8"
   },
   "source": [
    "### Log Transformation"
   ]
  },
  {
   "cell_type": "code",
   "execution_count": 22,
   "metadata": {
    "colab": {
     "base_uri": "https://localhost:8080/",
     "height": 281
    },
    "id": "I2YG8XrHAqZ8",
    "outputId": "a67eb2e9-2b3e-45c8-9249-c23c371acbea"
   },
   "outputs": [
    {
     "data": {
      "image/png": "[encoded data removed]",
      "text/plain": [
       "<Figure size 432x288 with 1 Axes>"
      ]
     },
     "metadata": {
      "needs_background": "light",
      "tags": []
     },
     "output_type": "display_data"
    }
   ],
   "source": [
    "# log transformation on Price variable\n",
    "df_raw['log_Price'] = np.log1p(df_raw.Price.dropna())\n",
    "\n",
    "log_price_mean = df_raw['log_Price'].mean()90\n",
    "log_price_std = df_raw['log_Price'].std()\n",
    "\n",
    "df_raw.log_Price.hist()\n",
    "plt.title('Log Price');"
   ]
  },
  {
   "cell_type": "markdown",
   "metadata": {
    "id": "NJd9d_vAAqZ9"
   },
   "source": [
    "### One hot Encoding"
   ]
  },
  {
   "cell_type": "code",
   "execution_count": 23,
   "metadata": {
    "colab": {
     "base_uri": "https://localhost:8080/",
     "height": 383
    },
    "id": "_buquaseAqZ9",
    "outputId": "39c8cb59-d807-4097-efa8-6166ce0a4e8d"
   },
   "outputs": [
    {
     "data": {
      "text/html": [
       "<div>\n",
       "<style scoped>\n",
       "    .dataframe tbody tr th:only-of-type {\n",
       "        vertical-align: middle;\n",
       "    }\n",
       "\n",
       "    .dataframe tbody tr th {\n",
       "        vertical-align: top;\n",
       "    }\n",
       "\n",
       "    .dataframe thead th {\n",
       "        text-align: right;\n",
       "    }\n",
       "</style>\n",
       "<table border=\"1\" class=\"dataframe\">\n",
       "  <thead>\n",
       "    <tr style=\"text-align: right;\">\n",
       "      <th></th>\n",
       "      <th>Rooms</th>\n",
       "      <th>Type</th>\n",
       "      <th>Price</th>\n",
       "      <th>Method</th>\n",
       "      <th>Date</th>\n",
       "      <th>Distance</th>\n",
       "      <th>Postcode</th>\n",
       "      <th>Bedroom2</th>\n",
       "      <th>Bathroom</th>\n",
       "      <th>Car</th>\n",
       "      <th>Landsize</th>\n",
       "      <th>BuildingArea</th>\n",
       "      <th>YearBuilt</th>\n",
       "      <th>Lattitude</th>\n",
       "      <th>Longtitude</th>\n",
       "      <th>Regionname</th>\n",
       "      <th>Propertycount</th>\n",
       "      <th>log_Price</th>\n",
       "    </tr>\n",
       "  </thead>\n",
       "  <tbody>\n",
       "    <tr>\n",
       "      <th>0</th>\n",
       "      <td>2</td>\n",
       "      <td>h</td>\n",
       "      <td>1480000</td>\n",
       "      <td>S</td>\n",
       "      <td>03-12-2016</td>\n",
       "      <td>2.5</td>\n",
       "      <td>3067</td>\n",
       "      <td>2</td>\n",
       "      <td>1</td>\n",
       "      <td>1.0</td>\n",
       "      <td>202</td>\n",
       "      <td>NaN</td>\n",
       "      <td>NaN</td>\n",
       "      <td>-37.7996</td>\n",
       "      <td>144.9984</td>\n",
       "      <td>Northern Metropolitan</td>\n",
       "      <td>4019</td>\n",
       "      <td>14.207553</td>\n",
       "    </tr>\n",
       "    <tr>\n",
       "      <th>1</th>\n",
       "      <td>2</td>\n",
       "      <td>h</td>\n",
       "      <td>1035000</td>\n",
       "      <td>S</td>\n",
       "      <td>04-02-2016</td>\n",
       "      <td>2.5</td>\n",
       "      <td>3067</td>\n",
       "      <td>2</td>\n",
       "      <td>1</td>\n",
       "      <td>0.0</td>\n",
       "      <td>156</td>\n",
       "      <td>79.0</td>\n",
       "      <td>1900.0</td>\n",
       "      <td>-37.8079</td>\n",
       "      <td>144.9934</td>\n",
       "      <td>Northern Metropolitan</td>\n",
       "      <td>4019</td>\n",
       "      <td>13.849913</td>\n",
       "    </tr>\n",
       "    <tr>\n",
       "      <th>2</th>\n",
       "      <td>3</td>\n",
       "      <td>h</td>\n",
       "      <td>1465000</td>\n",
       "      <td>SP</td>\n",
       "      <td>04-03-2017</td>\n",
       "      <td>2.5</td>\n",
       "      <td>3067</td>\n",
       "      <td>3</td>\n",
       "      <td>2</td>\n",
       "      <td>0.0</td>\n",
       "      <td>134</td>\n",
       "      <td>150.0</td>\n",
       "      <td>1900.0</td>\n",
       "      <td>-37.8093</td>\n",
       "      <td>144.9944</td>\n",
       "      <td>Northern Metropolitan</td>\n",
       "      <td>4019</td>\n",
       "      <td>14.197366</td>\n",
       "    </tr>\n",
       "    <tr>\n",
       "      <th>3</th>\n",
       "      <td>3</td>\n",
       "      <td>h</td>\n",
       "      <td>850000</td>\n",
       "      <td>PI</td>\n",
       "      <td>04-03-2017</td>\n",
       "      <td>2.5</td>\n",
       "      <td>3067</td>\n",
       "      <td>3</td>\n",
       "      <td>2</td>\n",
       "      <td>1.0</td>\n",
       "      <td>94</td>\n",
       "      <td>NaN</td>\n",
       "      <td>NaN</td>\n",
       "      <td>-37.7969</td>\n",
       "      <td>144.9969</td>\n",
       "      <td>Northern Metropolitan</td>\n",
       "      <td>4019</td>\n",
       "      <td>13.652993</td>\n",
       "    </tr>\n",
       "    <tr>\n",
       "      <th>4</th>\n",
       "      <td>4</td>\n",
       "      <td>h</td>\n",
       "      <td>1600000</td>\n",
       "      <td>VB</td>\n",
       "      <td>04-06-2016</td>\n",
       "      <td>2.5</td>\n",
       "      <td>3067</td>\n",
       "      <td>3</td>\n",
       "      <td>1</td>\n",
       "      <td>2.0</td>\n",
       "      <td>120</td>\n",
       "      <td>142.0</td>\n",
       "      <td>2014.0</td>\n",
       "      <td>-37.8072</td>\n",
       "      <td>144.9941</td>\n",
       "      <td>Northern Metropolitan</td>\n",
       "      <td>4019</td>\n",
       "      <td>14.285515</td>\n",
       "    </tr>\n",
       "  </tbody>\n",
       "</table>\n",
       "</div>"
      ],
      "text/plain": [
       "   Rooms Type    Price Method        Date  Distance  Postcode  Bedroom2  \\\n",
       "0      2    h  1480000      S  03-12-2016       2.5      3067         2   \n",
       "1      2    h  1035000      S  04-02-2016       2.5      3067         2   \n",
       "2      3    h  1465000     SP  04-03-2017       2.5      3067         3   \n",
       "3      3    h   850000     PI  04-03-2017       2.5      3067         3   \n",
       "4      4    h  1600000     VB  04-06-2016       2.5      3067         3   \n",
       "\n",
       "   Bathroom  Car  Landsize  BuildingArea  YearBuilt  Lattitude  Longtitude  \\\n",
       "0         1  1.0       202           NaN        NaN   -37.7996    144.9984   \n",
       "1         1  0.0       156          79.0     1900.0   -37.8079    144.9934   \n",
       "2         2  0.0       134         150.0     1900.0   -37.8093    144.9944   \n",
       "3         2  1.0        94           NaN        NaN   -37.7969    144.9969   \n",
       "4         1  2.0       120         142.0     2014.0   -37.8072    144.9941   \n",
       "\n",
       "              Regionname  Propertycount  log_Price  \n",
       "0  Northern Metropolitan           4019  14.207553  \n",
       "1  Northern Metropolitan           4019  13.849913  \n",
       "2  Northern Metropolitan           4019  14.197366  \n",
       "3  Northern Metropolitan           4019  13.652993  \n",
       "4  Northern Metropolitan           4019  14.285515  "
      ]
     },
     "execution_count": 23,
     "metadata": {
      "tags": []
     },
     "output_type": "execute_result"
    }
   ],
   "source": [
    "# The features 'Suburb', 'Address', and 'SellerG' have too many unique values to be helpful. \n",
    "# So I will just drop those columns.\n",
    "\n",
    "drop_list = ['Suburb', 'Address', 'SellerG', 'CouncilArea']\n",
    "df_raw = df_raw.drop(drop_list, axis=1)\n",
    "\n",
    "df_raw.head()"
   ]
  },
  {
   "cell_type": "code",
   "execution_count": 24,
   "metadata": {
    "colab": {
     "base_uri": "https://localhost:8080/"
    },
    "id": "s5HJbVRuAqZ9",
    "outputId": "4a1a52fa-4a4b-48f2-a358-9c362229b815"
   },
   "outputs": [
    {
     "data": {
      "text/plain": [
       "Type          0\n",
       "Method        0\n",
       "Regionname    0\n",
       "dtype: int64"
      ]
     },
     "execution_count": 24,
     "metadata": {
      "tags": []
     },
     "output_type": "execute_result"
    }
   ],
   "source": [
    "# There are no Nan values in the remaining categorical variables\n",
    "df_raw[['Type', 'Method', 'Regionname']].isna().sum()"
   ]
  },
  {
   "cell_type": "code",
   "execution_count": 25,
   "metadata": {
    "colab": {
     "base_uri": "https://localhost:8080/"
    },
    "id": "U7YVnN1DAqZ9",
    "outputId": "f43382cc-1b39-48f3-8b00-c49a899cee6e"
   },
   "outputs": [
    {
     "data": {
      "text/plain": [
       "array([[1., 0., 0.],\n",
       "       [1., 0., 0.],\n",
       "       [1., 0., 0.],\n",
       "       ...,\n",
       "       [1., 0., 0.],\n",
       "       [1., 0., 0.],\n",
       "       [1., 0., 0.]])"
      ]
     },
     "execution_count": 25,
     "metadata": {
      "tags": []
     },
     "output_type": "execute_result"
    }
   ],
   "source": [
    "# Applying one-hot encoding on 'Type' variable\n",
    "cat_encoder = OneHotEncoder(sparse=False)\n",
    "\n",
    "df_raw_type_reshaped = df_raw['Type'].values.reshape(-1,1)\n",
    "df_raw_type_1hot = cat_encoder.fit_transform(df_raw_type_reshaped)\n",
    "\n",
    "df_raw_type_1hot"
   ]
  },
  {
   "cell_type": "code",
   "execution_count": 26,
   "metadata": {
    "colab": {
     "base_uri": "https://localhost:8080/",
     "height": 402
    },
    "id": "SQavUOx0AqZ-",
    "outputId": "4158adfb-df61-4e8e-cd82-342a6ab7fbd4"
   },
   "outputs": [
    {
     "data": {
      "text/html": [
       "<div>\n",
       "<style scoped>\n",
       "    .dataframe tbody tr th:only-of-type {\n",
       "        vertical-align: middle;\n",
       "    }\n",
       "\n",
       "    .dataframe tbody tr th {\n",
       "        vertical-align: top;\n",
       "    }\n",
       "\n",
       "    .dataframe thead tr th {\n",
       "        text-align: left;\n",
       "    }\n",
       "</style>\n",
       "<table border=\"1\" class=\"dataframe\">\n",
       "  <thead>\n",
       "    <tr>\n",
       "      <th></th>\n",
       "      <th>h</th>\n",
       "      <th>t</th>\n",
       "      <th>u</th>\n",
       "    </tr>\n",
       "  </thead>\n",
       "  <tbody>\n",
       "    <tr>\n",
       "      <th>0</th>\n",
       "      <td>1.0</td>\n",
       "      <td>0.0</td>\n",
       "      <td>0.0</td>\n",
       "    </tr>\n",
       "    <tr>\n",
       "      <th>1</th>\n",
       "      <td>1.0</td>\n",
       "      <td>0.0</td>\n",
       "      <td>0.0</td>\n",
       "    </tr>\n",
       "    <tr>\n",
       "      <th>2</th>\n",
       "      <td>1.0</td>\n",
       "      <td>0.0</td>\n",
       "      <td>0.0</td>\n",
       "    </tr>\n",
       "    <tr>\n",
       "      <th>3</th>\n",
       "      <td>1.0</td>\n",
       "      <td>0.0</td>\n",
       "      <td>0.0</td>\n",
       "    </tr>\n",
       "    <tr>\n",
       "      <th>4</th>\n",
       "      <td>1.0</td>\n",
       "      <td>0.0</td>\n",
       "      <td>0.0</td>\n",
       "    </tr>\n",
       "    <tr>\n",
       "      <th>...</th>\n",
       "      <td>...</td>\n",
       "      <td>...</td>\n",
       "      <td>...</td>\n",
       "    </tr>\n",
       "    <tr>\n",
       "      <th>13575</th>\n",
       "      <td>1.0</td>\n",
       "      <td>0.0</td>\n",
       "      <td>0.0</td>\n",
       "    </tr>\n",
       "    <tr>\n",
       "      <th>13576</th>\n",
       "      <td>1.0</td>\n",
       "      <td>0.0</td>\n",
       "      <td>0.0</td>\n",
       "    </tr>\n",
       "    <tr>\n",
       "      <th>13577</th>\n",
       "      <td>1.0</td>\n",
       "      <td>0.0</td>\n",
       "      <td>0.0</td>\n",
       "    </tr>\n",
       "    <tr>\n",
       "      <th>13578</th>\n",
       "      <td>1.0</td>\n",
       "      <td>0.0</td>\n",
       "      <td>0.0</td>\n",
       "    </tr>\n",
       "    <tr>\n",
       "      <th>13579</th>\n",
       "      <td>1.0</td>\n",
       "      <td>0.0</td>\n",
       "      <td>0.0</td>\n",
       "    </tr>\n",
       "  </tbody>\n",
       "</table>\n",
       "<p>13580 rows × 3 columns</p>\n",
       "</div>"
      ],
      "text/plain": [
       "         h    t    u\n",
       "0      1.0  0.0  0.0\n",
       "1      1.0  0.0  0.0\n",
       "2      1.0  0.0  0.0\n",
       "3      1.0  0.0  0.0\n",
       "4      1.0  0.0  0.0\n",
       "...    ...  ...  ...\n",
       "13575  1.0  0.0  0.0\n",
       "13576  1.0  0.0  0.0\n",
       "13577  1.0  0.0  0.0\n",
       "13578  1.0  0.0  0.0\n",
       "13579  1.0  0.0  0.0\n",
       "\n",
       "[13580 rows x 3 columns]"
      ]
     },
     "execution_count": 26,
     "metadata": {
      "tags": []
     },
     "output_type": "execute_result"
    }
   ],
   "source": [
    "categories = cat_encoder.categories_\n",
    "df_raw_type_1hot = pd.DataFrame(df_raw_type_1hot, columns=categories)\n",
    "\n",
    "df_raw_type_1hot"
   ]
  },
  {
   "cell_type": "code",
   "execution_count": null,
   "metadata": {},
   "outputs": [],
   "source": []
  },
  {
   "cell_type": "code",
   "execution_count": 27,
   "metadata": {
    "colab": {
     "base_uri": "https://localhost:8080/",
     "height": 383
    },
    "id": "WYHCfZvNAqZ-",
    "outputId": "3215cabc-3bf4-4a78-f9f3-991976370931"
   },
   "outputs": [
    {
     "data": {
      "text/html": [
       "<div>\n",
       "<style scoped>\n",
       "    .dataframe tbody tr th:only-of-type {\n",
       "        vertical-align: middle;\n",
       "    }\n",
       "\n",
       "    .dataframe tbody tr th {\n",
       "        vertical-align: top;\n",
       "    }\n",
       "\n",
       "    .dataframe thead th {\n",
       "        text-align: right;\n",
       "    }\n",
       "</style>\n",
       "<table border=\"1\" class=\"dataframe\">\n",
       "  <thead>\n",
       "    <tr style=\"text-align: right;\">\n",
       "      <th></th>\n",
       "      <th>Rooms</th>\n",
       "      <th>Type</th>\n",
       "      <th>Price</th>\n",
       "      <th>Method</th>\n",
       "      <th>Date</th>\n",
       "      <th>Distance</th>\n",
       "      <th>Postcode</th>\n",
       "      <th>Bedroom2</th>\n",
       "      <th>Bathroom</th>\n",
       "      <th>Car</th>\n",
       "      <th>Landsize</th>\n",
       "      <th>BuildingArea</th>\n",
       "      <th>YearBuilt</th>\n",
       "      <th>Lattitude</th>\n",
       "      <th>Longtitude</th>\n",
       "      <th>Regionname</th>\n",
       "      <th>Propertycount</th>\n",
       "      <th>log_Price</th>\n",
       "      <th>(h,)</th>\n",
       "      <th>(t,)</th>\n",
       "      <th>(u,)</th>\n",
       "    </tr>\n",
       "  </thead>\n",
       "  <tbody>\n",
       "    <tr>\n",
       "      <th>0</th>\n",
       "      <td>2</td>\n",
       "      <td>h</td>\n",
       "      <td>1480000</td>\n",
       "      <td>S</td>\n",
       "      <td>03-12-2016</td>\n",
       "      <td>2.5</td>\n",
       "      <td>3067</td>\n",
       "      <td>2</td>\n",
       "      <td>1</td>\n",
       "      <td>1.0</td>\n",
       "      <td>202</td>\n",
       "      <td>NaN</td>\n",
       "      <td>NaN</td>\n",
       "      <td>-37.7996</td>\n",
       "      <td>144.9984</td>\n",
       "      <td>Northern Metropolitan</td>\n",
       "      <td>4019</td>\n",
       "      <td>14.207553</td>\n",
       "      <td>1.0</td>\n",
       "      <td>0.0</td>\n",
       "      <td>0.0</td>\n",
       "    </tr>\n",
       "    <tr>\n",
       "      <th>1</th>\n",
       "      <td>2</td>\n",
       "      <td>h</td>\n",
       "      <td>1035000</td>\n",
       "      <td>S</td>\n",
       "      <td>04-02-2016</td>\n",
       "      <td>2.5</td>\n",
       "      <td>3067</td>\n",
       "      <td>2</td>\n",
       "      <td>1</td>\n",
       "      <td>0.0</td>\n",
       "      <td>156</td>\n",
       "      <td>79.0</td>\n",
       "      <td>1900.0</td>\n",
       "      <td>-37.8079</td>\n",
       "      <td>144.9934</td>\n",
       "      <td>Northern Metropolitan</td>\n",
       "      <td>4019</td>\n",
       "      <td>13.849913</td>\n",
       "      <td>1.0</td>\n",
       "      <td>0.0</td>\n",
       "      <td>0.0</td>\n",
       "    </tr>\n",
       "    <tr>\n",
       "      <th>2</th>\n",
       "      <td>3</td>\n",
       "      <td>h</td>\n",
       "      <td>1465000</td>\n",
       "      <td>SP</td>\n",
       "      <td>04-03-2017</td>\n",
       "      <td>2.5</td>\n",
       "      <td>3067</td>\n",
       "      <td>3</td>\n",
       "      <td>2</td>\n",
       "      <td>0.0</td>\n",
       "      <td>134</td>\n",
       "      <td>150.0</td>\n",
       "      <td>1900.0</td>\n",
       "      <td>-37.8093</td>\n",
       "      <td>144.9944</td>\n",
       "      <td>Northern Metropolitan</td>\n",
       "      <td>4019</td>\n",
       "      <td>14.197366</td>\n",
       "      <td>1.0</td>\n",
       "      <td>0.0</td>\n",
       "      <td>0.0</td>\n",
       "    </tr>\n",
       "    <tr>\n",
       "      <th>3</th>\n",
       "      <td>3</td>\n",
       "      <td>h</td>\n",
       "      <td>850000</td>\n",
       "      <td>PI</td>\n",
       "      <td>04-03-2017</td>\n",
       "      <td>2.5</td>\n",
       "      <td>3067</td>\n",
       "      <td>3</td>\n",
       "      <td>2</td>\n",
       "      <td>1.0</td>\n",
       "      <td>94</td>\n",
       "      <td>NaN</td>\n",
       "      <td>NaN</td>\n",
       "      <td>-37.7969</td>\n",
       "      <td>144.9969</td>\n",
       "      <td>Northern Metropolitan</td>\n",
       "      <td>4019</td>\n",
       "      <td>13.652993</td>\n",
       "      <td>1.0</td>\n",
       "      <td>0.0</td>\n",
       "      <td>0.0</td>\n",
       "    </tr>\n",
       "    <tr>\n",
       "      <th>4</th>\n",
       "      <td>4</td>\n",
       "      <td>h</td>\n",
       "      <td>1600000</td>\n",
       "      <td>VB</td>\n",
       "      <td>04-06-2016</td>\n",
       "      <td>2.5</td>\n",
       "      <td>3067</td>\n",
       "      <td>3</td>\n",
       "      <td>1</td>\n",
       "      <td>2.0</td>\n",
       "      <td>120</td>\n",
       "      <td>142.0</td>\n",
       "      <td>2014.0</td>\n",
       "      <td>-37.8072</td>\n",
       "      <td>144.9941</td>\n",
       "      <td>Northern Metropolitan</td>\n",
       "      <td>4019</td>\n",
       "      <td>14.285515</td>\n",
       "      <td>1.0</td>\n",
       "      <td>0.0</td>\n",
       "      <td>0.0</td>\n",
       "    </tr>\n",
       "  </tbody>\n",
       "</table>\n",
       "</div>"
      ],
      "text/plain": [
       "   Rooms Type    Price Method        Date  Distance  Postcode  Bedroom2  \\\n",
       "0      2    h  1480000      S  03-12-2016       2.5      3067         2   \n",
       "1      2    h  1035000      S  04-02-2016       2.5      3067         2   \n",
       "2      3    h  1465000     SP  04-03-2017       2.5      3067         3   \n",
       "3      3    h   850000     PI  04-03-2017       2.5      3067         3   \n",
       "4      4    h  1600000     VB  04-06-2016       2.5      3067         3   \n",
       "\n",
       "   Bathroom  Car  Landsize  BuildingArea  YearBuilt  Lattitude  Longtitude  \\\n",
       "0         1  1.0       202           NaN        NaN   -37.7996    144.9984   \n",
       "1         1  0.0       156          79.0     1900.0   -37.8079    144.9934   \n",
       "2         2  0.0       134         150.0     1900.0   -37.8093    144.9944   \n",
       "3         2  1.0        94           NaN        NaN   -37.7969    144.9969   \n",
       "4         1  2.0       120         142.0     2014.0   -37.8072    144.9941   \n",
       "\n",
       "              Regionname  Propertycount  log_Price  (h,)  (t,)  (u,)  \n",
       "0  Northern Metropolitan           4019  14.207553   1.0   0.0   0.0  \n",
       "1  Northern Metropolitan           4019  13.849913   1.0   0.0   0.0  \n",
       "2  Northern Metropolitan           4019  14.197366   1.0   0.0   0.0  \n",
       "3  Northern Metropolitan           4019  13.652993   1.0   0.0   0.0  \n",
       "4  Northern Metropolitan           4019  14.285515   1.0   0.0   0.0  "
      ]
     },
     "execution_count": 27,
     "metadata": {
      "tags": []
     },
     "output_type": "execute_result"
    }
   ],
   "source": [
    "# Concatinating One hot DataFrame and raw dataframe\n",
    "\n",
    "df_raw = df_raw.reset_index().drop('index', axis=1)\n",
    "df_raw = pd.concat([df_raw, df_raw_type_1hot], axis=1)\n",
    "df_raw.head()"
   ]
  },
  {
   "cell_type": "code",
   "execution_count": 28,
   "metadata": {
    "colab": {
     "base_uri": "https://localhost:8080/",
     "height": 383
    },
    "id": "JTWw1gmgAqZ-",
    "outputId": "24e8c50b-caba-4ce8-9351-929069ae3cd2"
   },
   "outputs": [
    {
     "data": {
      "text/html": [
       "<div>\n",
       "<style scoped>\n",
       "    .dataframe tbody tr th:only-of-type {\n",
       "        vertical-align: middle;\n",
       "    }\n",
       "\n",
       "    .dataframe tbody tr th {\n",
       "        vertical-align: top;\n",
       "    }\n",
       "\n",
       "    .dataframe thead th {\n",
       "        text-align: right;\n",
       "    }\n",
       "</style>\n",
       "<table border=\"1\" class=\"dataframe\">\n",
       "  <thead>\n",
       "    <tr style=\"text-align: right;\">\n",
       "      <th></th>\n",
       "      <th>Rooms</th>\n",
       "      <th>Type</th>\n",
       "      <th>Price</th>\n",
       "      <th>Method</th>\n",
       "      <th>Date</th>\n",
       "      <th>Distance</th>\n",
       "      <th>Postcode</th>\n",
       "      <th>Bedroom2</th>\n",
       "      <th>Bathroom</th>\n",
       "      <th>Car</th>\n",
       "      <th>Landsize</th>\n",
       "      <th>BuildingArea</th>\n",
       "      <th>YearBuilt</th>\n",
       "      <th>Lattitude</th>\n",
       "      <th>Longtitude</th>\n",
       "      <th>Regionname</th>\n",
       "      <th>Propertycount</th>\n",
       "      <th>log_Price</th>\n",
       "      <th>(h,)</th>\n",
       "      <th>(t,)</th>\n",
       "      <th>(u,)</th>\n",
       "      <th>(PI,)</th>\n",
       "      <th>(S,)</th>\n",
       "      <th>(SA,)</th>\n",
       "      <th>(SP,)</th>\n",
       "      <th>(VB,)</th>\n",
       "    </tr>\n",
       "  </thead>\n",
       "  <tbody>\n",
       "    <tr>\n",
       "      <th>0</th>\n",
       "      <td>2</td>\n",
       "      <td>h</td>\n",
       "      <td>1480000</td>\n",
       "      <td>S</td>\n",
       "      <td>03-12-2016</td>\n",
       "      <td>2.5</td>\n",
       "      <td>3067</td>\n",
       "      <td>2</td>\n",
       "      <td>1</td>\n",
       "      <td>1.0</td>\n",
       "      <td>202</td>\n",
       "      <td>NaN</td>\n",
       "      <td>NaN</td>\n",
       "      <td>-37.7996</td>\n",
       "      <td>144.9984</td>\n",
       "      <td>Northern Metropolitan</td>\n",
       "      <td>4019</td>\n",
       "      <td>14.207553</td>\n",
       "      <td>1.0</td>\n",
       "      <td>0.0</td>\n",
       "      <td>0.0</td>\n",
       "      <td>0.0</td>\n",
       "      <td>1.0</td>\n",
       "      <td>0.0</td>\n",
       "      <td>0.0</td>\n",
       "      <td>0.0</td>\n",
       "    </tr>\n",
       "    <tr>\n",
       "      <th>1</th>\n",
       "      <td>2</td>\n",
       "      <td>h</td>\n",
       "      <td>1035000</td>\n",
       "      <td>S</td>\n",
       "      <td>04-02-2016</td>\n",
       "      <td>2.5</td>\n",
       "      <td>3067</td>\n",
       "      <td>2</td>\n",
       "      <td>1</td>\n",
       "      <td>0.0</td>\n",
       "      <td>156</td>\n",
       "      <td>79.0</td>\n",
       "      <td>1900.0</td>\n",
       "      <td>-37.8079</td>\n",
       "      <td>144.9934</td>\n",
       "      <td>Northern Metropolitan</td>\n",
       "      <td>4019</td>\n",
       "      <td>13.849913</td>\n",
       "      <td>1.0</td>\n",
       "      <td>0.0</td>\n",
       "      <td>0.0</td>\n",
       "      <td>0.0</td>\n",
       "      <td>1.0</td>\n",
       "      <td>0.0</td>\n",
       "      <td>0.0</td>\n",
       "      <td>0.0</td>\n",
       "    </tr>\n",
       "    <tr>\n",
       "      <th>2</th>\n",
       "      <td>3</td>\n",
       "      <td>h</td>\n",
       "      <td>1465000</td>\n",
       "      <td>SP</td>\n",
       "      <td>04-03-2017</td>\n",
       "      <td>2.5</td>\n",
       "      <td>3067</td>\n",
       "      <td>3</td>\n",
       "      <td>2</td>\n",
       "      <td>0.0</td>\n",
       "      <td>134</td>\n",
       "      <td>150.0</td>\n",
       "      <td>1900.0</td>\n",
       "      <td>-37.8093</td>\n",
       "      <td>144.9944</td>\n",
       "      <td>Northern Metropolitan</td>\n",
       "      <td>4019</td>\n",
       "      <td>14.197366</td>\n",
       "      <td>1.0</td>\n",
       "      <td>0.0</td>\n",
       "      <td>0.0</td>\n",
       "      <td>0.0</td>\n",
       "      <td>0.0</td>\n",
       "      <td>0.0</td>\n",
       "      <td>1.0</td>\n",
       "      <td>0.0</td>\n",
       "    </tr>\n",
       "    <tr>\n",
       "      <th>3</th>\n",
       "      <td>3</td>\n",
       "      <td>h</td>\n",
       "      <td>850000</td>\n",
       "      <td>PI</td>\n",
       "      <td>04-03-2017</td>\n",
       "      <td>2.5</td>\n",
       "      <td>3067</td>\n",
       "      <td>3</td>\n",
       "      <td>2</td>\n",
       "      <td>1.0</td>\n",
       "      <td>94</td>\n",
       "      <td>NaN</td>\n",
       "      <td>NaN</td>\n",
       "      <td>-37.7969</td>\n",
       "      <td>144.9969</td>\n",
       "      <td>Northern Metropolitan</td>\n",
       "      <td>4019</td>\n",
       "      <td>13.652993</td>\n",
       "      <td>1.0</td>\n",
       "      <td>0.0</td>\n",
       "      <td>0.0</td>\n",
       "      <td>1.0</td>\n",
       "      <td>0.0</td>\n",
       "      <td>0.0</td>\n",
       "      <td>0.0</td>\n",
       "      <td>0.0</td>\n",
       "    </tr>\n",
       "    <tr>\n",
       "      <th>4</th>\n",
       "      <td>4</td>\n",
       "      <td>h</td>\n",
       "      <td>1600000</td>\n",
       "      <td>VB</td>\n",
       "      <td>04-06-2016</td>\n",
       "      <td>2.5</td>\n",
       "      <td>3067</td>\n",
       "      <td>3</td>\n",
       "      <td>1</td>\n",
       "      <td>2.0</td>\n",
       "      <td>120</td>\n",
       "      <td>142.0</td>\n",
       "      <td>2014.0</td>\n",
       "      <td>-37.8072</td>\n",
       "      <td>144.9941</td>\n",
       "      <td>Northern Metropolitan</td>\n",
       "      <td>4019</td>\n",
       "      <td>14.285515</td>\n",
       "      <td>1.0</td>\n",
       "      <td>0.0</td>\n",
       "      <td>0.0</td>\n",
       "      <td>0.0</td>\n",
       "      <td>0.0</td>\n",
       "      <td>0.0</td>\n",
       "      <td>0.0</td>\n",
       "      <td>1.0</td>\n",
       "    </tr>\n",
       "  </tbody>\n",
       "</table>\n",
       "</div>"
      ],
      "text/plain": [
       "   Rooms Type    Price Method        Date  Distance  Postcode  Bedroom2  \\\n",
       "0      2    h  1480000      S  03-12-2016       2.5      3067         2   \n",
       "1      2    h  1035000      S  04-02-2016       2.5      3067         2   \n",
       "2      3    h  1465000     SP  04-03-2017       2.5      3067         3   \n",
       "3      3    h   850000     PI  04-03-2017       2.5      3067         3   \n",
       "4      4    h  1600000     VB  04-06-2016       2.5      3067         3   \n",
       "\n",
       "   Bathroom  Car  Landsize  BuildingArea  YearBuilt  Lattitude  Longtitude  \\\n",
       "0         1  1.0       202           NaN        NaN   -37.7996    144.9984   \n",
       "1         1  0.0       156          79.0     1900.0   -37.8079    144.9934   \n",
       "2         2  0.0       134         150.0     1900.0   -37.8093    144.9944   \n",
       "3         2  1.0        94           NaN        NaN   -37.7969    144.9969   \n",
       "4         1  2.0       120         142.0     2014.0   -37.8072    144.9941   \n",
       "\n",
       "              Regionname  Propertycount  log_Price  (h,)  (t,)  (u,)  (PI,)  \\\n",
       "0  Northern Metropolitan           4019  14.207553   1.0   0.0   0.0    0.0   \n",
       "1  Northern Metropolitan           4019  13.849913   1.0   0.0   0.0    0.0   \n",
       "2  Northern Metropolitan           4019  14.197366   1.0   0.0   0.0    0.0   \n",
       "3  Northern Metropolitan           4019  13.652993   1.0   0.0   0.0    1.0   \n",
       "4  Northern Metropolitan           4019  14.285515   1.0   0.0   0.0    0.0   \n",
       "\n",
       "   (S,)  (SA,)  (SP,)  (VB,)  \n",
       "0   1.0    0.0    0.0    0.0  \n",
       "1   1.0    0.0    0.0    0.0  \n",
       "2   0.0    0.0    1.0    0.0  \n",
       "3   0.0    0.0    0.0    0.0  \n",
       "4   0.0    0.0    0.0    1.0  "
      ]
     },
     "execution_count": 28,
     "metadata": {
      "tags": []
     },
     "output_type": "execute_result"
    }
   ],
   "source": [
    "# Applying one-hot encoding on 'Method' variable\n",
    "\n",
    "df_raw_meth_reshaped = df_raw['Method'].values.reshape(-1,1)\n",
    "df_raw_meth_1hot = cat_encoder.fit_transform(df_raw_meth_reshaped)\n",
    "\n",
    "categories = cat_encoder.categories_\n",
    "df_raw_meth_1hot = pd.DataFrame(df_raw_meth_1hot, columns=categories)\n",
    "\n",
    "df_raw = pd.concat([df_raw, df_raw_meth_1hot], axis=1)\n",
    "df_raw.head()"
   ]
  },
  {
   "cell_type": "code",
   "execution_count": 29,
   "metadata": {
    "colab": {
     "base_uri": "https://localhost:8080/",
     "height": 400
    },
    "id": "TbrqsL0iAqZ-",
    "outputId": "19271636-9310-4468-fbec-672195c890ce"
   },
   "outputs": [
    {
     "data": {
      "text/html": [
       "<div>\n",
       "<style scoped>\n",
       "    .dataframe tbody tr th:only-of-type {\n",
       "        vertical-align: middle;\n",
       "    }\n",
       "\n",
       "    .dataframe tbody tr th {\n",
       "        vertical-align: top;\n",
       "    }\n",
       "\n",
       "    .dataframe thead th {\n",
       "        text-align: right;\n",
       "    }\n",
       "</style>\n",
       "<table border=\"1\" class=\"dataframe\">\n",
       "  <thead>\n",
       "    <tr style=\"text-align: right;\">\n",
       "      <th></th>\n",
       "      <th>Rooms</th>\n",
       "      <th>Type</th>\n",
       "      <th>Price</th>\n",
       "      <th>Method</th>\n",
       "      <th>Date</th>\n",
       "      <th>Distance</th>\n",
       "      <th>Postcode</th>\n",
       "      <th>Bedroom2</th>\n",
       "      <th>Bathroom</th>\n",
       "      <th>Car</th>\n",
       "      <th>Landsize</th>\n",
       "      <th>BuildingArea</th>\n",
       "      <th>YearBuilt</th>\n",
       "      <th>Lattitude</th>\n",
       "      <th>Longtitude</th>\n",
       "      <th>Regionname</th>\n",
       "      <th>Propertycount</th>\n",
       "      <th>log_Price</th>\n",
       "      <th>(h,)</th>\n",
       "      <th>(t,)</th>\n",
       "      <th>(u,)</th>\n",
       "      <th>(PI,)</th>\n",
       "      <th>(S,)</th>\n",
       "      <th>(SA,)</th>\n",
       "      <th>(SP,)</th>\n",
       "      <th>(VB,)</th>\n",
       "      <th>(Eastern Metropolitan,)</th>\n",
       "      <th>(Eastern Victoria,)</th>\n",
       "      <th>(Northern Metropolitan,)</th>\n",
       "      <th>(Northern Victoria,)</th>\n",
       "      <th>(South-Eastern Metropolitan,)</th>\n",
       "      <th>(Southern Metropolitan,)</th>\n",
       "      <th>(Western Metropolitan,)</th>\n",
       "      <th>(Western Victoria,)</th>\n",
       "    </tr>\n",
       "  </thead>\n",
       "  <tbody>\n",
       "    <tr>\n",
       "      <th>0</th>\n",
       "      <td>2</td>\n",
       "      <td>h</td>\n",
       "      <td>1480000</td>\n",
       "      <td>S</td>\n",
       "      <td>03-12-2016</td>\n",
       "      <td>2.5</td>\n",
       "      <td>3067</td>\n",
       "      <td>2</td>\n",
       "      <td>1</td>\n",
       "      <td>1.0</td>\n",
       "      <td>202</td>\n",
       "      <td>NaN</td>\n",
       "      <td>NaN</td>\n",
       "      <td>-37.7996</td>\n",
       "      <td>144.9984</td>\n",
       "      <td>Northern Metropolitan</td>\n",
       "      <td>4019</td>\n",
       "      <td>14.207553</td>\n",
       "      <td>1.0</td>\n",
       "      <td>0.0</td>\n",
       "      <td>0.0</td>\n",
       "      <td>0.0</td>\n",
       "      <td>1.0</td>\n",
       "      <td>0.0</td>\n",
       "      <td>0.0</td>\n",
       "      <td>0.0</td>\n",
       "      <td>0.0</td>\n",
       "      <td>0.0</td>\n",
       "      <td>1.0</td>\n",
       "      <td>0.0</td>\n",
       "      <td>0.0</td>\n",
       "      <td>0.0</td>\n",
       "      <td>0.0</td>\n",
       "      <td>0.0</td>\n",
       "    </tr>\n",
       "    <tr>\n",
       "      <th>1</th>\n",
       "      <td>2</td>\n",
       "      <td>h</td>\n",
       "      <td>1035000</td>\n",
       "      <td>S</td>\n",
       "      <td>04-02-2016</td>\n",
       "      <td>2.5</td>\n",
       "      <td>3067</td>\n",
       "      <td>2</td>\n",
       "      <td>1</td>\n",
       "      <td>0.0</td>\n",
       "      <td>156</td>\n",
       "      <td>79.0</td>\n",
       "      <td>1900.0</td>\n",
       "      <td>-37.8079</td>\n",
       "      <td>144.9934</td>\n",
       "      <td>Northern Metropolitan</td>\n",
       "      <td>4019</td>\n",
       "      <td>13.849913</td>\n",
       "      <td>1.0</td>\n",
       "      <td>0.0</td>\n",
       "      <td>0.0</td>\n",
       "      <td>0.0</td>\n",
       "      <td>1.0</td>\n",
       "      <td>0.0</td>\n",
       "      <td>0.0</td>\n",
       "      <td>0.0</td>\n",
       "      <td>0.0</td>\n",
       "      <td>0.0</td>\n",
       "      <td>1.0</td>\n",
       "      <td>0.0</td>\n",
       "      <td>0.0</td>\n",
       "      <td>0.0</td>\n",
       "      <td>0.0</td>\n",
       "      <td>0.0</td>\n",
       "    </tr>\n",
       "    <tr>\n",
       "      <th>2</th>\n",
       "      <td>3</td>\n",
       "      <td>h</td>\n",
       "      <td>1465000</td>\n",
       "      <td>SP</td>\n",
       "      <td>04-03-2017</td>\n",
       "      <td>2.5</td>\n",
       "      <td>3067</td>\n",
       "      <td>3</td>\n",
       "      <td>2</td>\n",
       "      <td>0.0</td>\n",
       "      <td>134</td>\n",
       "      <td>150.0</td>\n",
       "      <td>1900.0</td>\n",
       "      <td>-37.8093</td>\n",
       "      <td>144.9944</td>\n",
       "      <td>Northern Metropolitan</td>\n",
       "      <td>4019</td>\n",
       "      <td>14.197366</td>\n",
       "      <td>1.0</td>\n",
       "      <td>0.0</td>\n",
       "      <td>0.0</td>\n",
       "      <td>0.0</td>\n",
       "      <td>0.0</td>\n",
       "      <td>0.0</td>\n",
       "      <td>1.0</td>\n",
       "      <td>0.0</td>\n",
       "      <td>0.0</td>\n",
       "      <td>0.0</td>\n",
       "      <td>1.0</td>\n",
       "      <td>0.0</td>\n",
       "      <td>0.0</td>\n",
       "      <td>0.0</td>\n",
       "      <td>0.0</td>\n",
       "      <td>0.0</td>\n",
       "    </tr>\n",
       "    <tr>\n",
       "      <th>3</th>\n",
       "      <td>3</td>\n",
       "      <td>h</td>\n",
       "      <td>850000</td>\n",
       "      <td>PI</td>\n",
       "      <td>04-03-2017</td>\n",
       "      <td>2.5</td>\n",
       "      <td>3067</td>\n",
       "      <td>3</td>\n",
       "      <td>2</td>\n",
       "      <td>1.0</td>\n",
       "      <td>94</td>\n",
       "      <td>NaN</td>\n",
       "      <td>NaN</td>\n",
       "      <td>-37.7969</td>\n",
       "      <td>144.9969</td>\n",
       "      <td>Northern Metropolitan</td>\n",
       "      <td>4019</td>\n",
       "      <td>13.652993</td>\n",
       "      <td>1.0</td>\n",
       "      <td>0.0</td>\n",
       "      <td>0.0</td>\n",
       "      <td>1.0</td>\n",
       "      <td>0.0</td>\n",
       "      <td>0.0</td>\n",
       "      <td>0.0</td>\n",
       "      <td>0.0</td>\n",
       "      <td>0.0</td>\n",
       "      <td>0.0</td>\n",
       "      <td>1.0</td>\n",
       "      <td>0.0</td>\n",
       "      <td>0.0</td>\n",
       "      <td>0.0</td>\n",
       "      <td>0.0</td>\n",
       "      <td>0.0</td>\n",
       "    </tr>\n",
       "    <tr>\n",
       "      <th>4</th>\n",
       "      <td>4</td>\n",
       "      <td>h</td>\n",
       "      <td>1600000</td>\n",
       "      <td>VB</td>\n",
       "      <td>04-06-2016</td>\n",
       "      <td>2.5</td>\n",
       "      <td>3067</td>\n",
       "      <td>3</td>\n",
       "      <td>1</td>\n",
       "      <td>2.0</td>\n",
       "      <td>120</td>\n",
       "      <td>142.0</td>\n",
       "      <td>2014.0</td>\n",
       "      <td>-37.8072</td>\n",
       "      <td>144.9941</td>\n",
       "      <td>Northern Metropolitan</td>\n",
       "      <td>4019</td>\n",
       "      <td>14.285515</td>\n",
       "      <td>1.0</td>\n",
       "      <td>0.0</td>\n",
       "      <td>0.0</td>\n",
       "      <td>0.0</td>\n",
       "      <td>0.0</td>\n",
       "      <td>0.0</td>\n",
       "      <td>0.0</td>\n",
       "      <td>1.0</td>\n",
       "      <td>0.0</td>\n",
       "      <td>0.0</td>\n",
       "      <td>1.0</td>\n",
       "      <td>0.0</td>\n",
       "      <td>0.0</td>\n",
       "      <td>0.0</td>\n",
       "      <td>0.0</td>\n",
       "      <td>0.0</td>\n",
       "    </tr>\n",
       "  </tbody>\n",
       "</table>\n",
       "</div>"
      ],
      "text/plain": [
       "   Rooms Type    Price Method        Date  Distance  Postcode  Bedroom2  \\\n",
       "0      2    h  1480000      S  03-12-2016       2.5      3067         2   \n",
       "1      2    h  1035000      S  04-02-2016       2.5      3067         2   \n",
       "2      3    h  1465000     SP  04-03-2017       2.5      3067         3   \n",
       "3      3    h   850000     PI  04-03-2017       2.5      3067         3   \n",
       "4      4    h  1600000     VB  04-06-2016       2.5      3067         3   \n",
       "\n",
       "   Bathroom  Car  Landsize  BuildingArea  YearBuilt  Lattitude  Longtitude  \\\n",
       "0         1  1.0       202           NaN        NaN   -37.7996    144.9984   \n",
       "1         1  0.0       156          79.0     1900.0   -37.8079    144.9934   \n",
       "2         2  0.0       134         150.0     1900.0   -37.8093    144.9944   \n",
       "3         2  1.0        94           NaN        NaN   -37.7969    144.9969   \n",
       "4         1  2.0       120         142.0     2014.0   -37.8072    144.9941   \n",
       "\n",
       "              Regionname  Propertycount  log_Price  (h,)  (t,)  (u,)  (PI,)  \\\n",
       "0  Northern Metropolitan           4019  14.207553   1.0   0.0   0.0    0.0   \n",
       "1  Northern Metropolitan           4019  13.849913   1.0   0.0   0.0    0.0   \n",
       "2  Northern Metropolitan           4019  14.197366   1.0   0.0   0.0    0.0   \n",
       "3  Northern Metropolitan           4019  13.652993   1.0   0.0   0.0    1.0   \n",
       "4  Northern Metropolitan           4019  14.285515   1.0   0.0   0.0    0.0   \n",
       "\n",
       "   (S,)  (SA,)  (SP,)  (VB,)  (Eastern Metropolitan,)  (Eastern Victoria,)  \\\n",
       "0   1.0    0.0    0.0    0.0                      0.0                  0.0   \n",
       "1   1.0    0.0    0.0    0.0                      0.0                  0.0   \n",
       "2   0.0    0.0    1.0    0.0                      0.0                  0.0   \n",
       "3   0.0    0.0    0.0    0.0                      0.0                  0.0   \n",
       "4   0.0    0.0    0.0    1.0                      0.0                  0.0   \n",
       "\n",
       "   (Northern Metropolitan,)  (Northern Victoria,)  \\\n",
       "0                       1.0                   0.0   \n",
       "1                       1.0                   0.0   \n",
       "2                       1.0                   0.0   \n",
       "3                       1.0                   0.0   \n",
       "4                       1.0                   0.0   \n",
       "\n",
       "   (South-Eastern Metropolitan,)  (Southern Metropolitan,)  \\\n",
       "0                            0.0                       0.0   \n",
       "1                            0.0                       0.0   \n",
       "2                            0.0                       0.0   \n",
       "3                            0.0                       0.0   \n",
       "4                            0.0                       0.0   \n",
       "\n",
       "   (Western Metropolitan,)  (Western Victoria,)  \n",
       "0                      0.0                  0.0  \n",
       "1                      0.0                  0.0  \n",
       "2                      0.0                  0.0  \n",
       "3                      0.0                  0.0  \n",
       "4                      0.0                  0.0  "
      ]
     },
     "execution_count": 29,
     "metadata": {
      "tags": []
     },
     "output_type": "execute_result"
    }
   ],
   "source": [
    "# Applying one-hot encoding on 'Regionname' variable\n",
    "\n",
    "df_raw_reg_reshaped = df_raw['Regionname'].values.reshape(-1,1)\n",
    "df_raw_reg_1hot = cat_encoder.fit_transform(df_raw_reg_reshaped)\n",
    "\n",
    "categories = cat_encoder.categories_\n",
    "df_raw_reg_1hot = pd.DataFrame(df_raw_reg_1hot, columns=categories)\n",
    "\n",
    "df_raw = pd.concat([df_raw, df_raw_reg_1hot], axis=1)\n",
    "df_raw.head()"
   ]
  },
  {
   "cell_type": "markdown",
   "metadata": {
    "id": "mudGqGvSAqZ_"
   },
   "source": [
    "### Handle Missing Values"
   ]
  },
  {
   "cell_type": "code",
   "execution_count": 30,
   "metadata": {
    "colab": {
     "base_uri": "https://localhost:8080/"
    },
    "id": "tr7E11KvAqZ_",
    "outputId": "dca761da-491f-479a-98fb-72b74c84b1f1"
   },
   "outputs": [
    {
     "data": {
      "text/plain": [
       "Rooms                               0\n",
       "Price                               0\n",
       "Distance                            0\n",
       "Postcode                            0\n",
       "Bedroom2                            0\n",
       "Bathroom                            0\n",
       "Car                                62\n",
       "Landsize                            0\n",
       "BuildingArea                     6450\n",
       "YearBuilt                        5375\n",
       "Lattitude                           0\n",
       "Longtitude                          0\n",
       "Propertycount                       0\n",
       "log_Price                           0\n",
       "(h,)                                0\n",
       "(t,)                                0\n",
       "(u,)                                0\n",
       "(PI,)                               0\n",
       "(S,)                                0\n",
       "(SA,)                               0\n",
       "(SP,)                               0\n",
       "(VB,)                               0\n",
       "(Eastern Metropolitan,)             0\n",
       "(Eastern Victoria,)                 0\n",
       "(Northern Metropolitan,)            0\n",
       "(Northern Victoria,)                0\n",
       "(South-Eastern Metropolitan,)       0\n",
       "(Southern Metropolitan,)            0\n",
       "(Western Metropolitan,)             0\n",
       "(Western Victoria,)                 0\n",
       "dtype: int64"
      ]
     },
     "execution_count": 30,
     "metadata": {
      "tags": []
     },
     "output_type": "execute_result"
    }
   ],
   "source": [
    "# Remove all the features with dtype == object\n",
    "objects = []\n",
    "\n",
    "df_na = df_raw.dropna(subset=['Price', 'log_Price'], axis=0)\n",
    "\n",
    "for i in df_raw.columns.values:\n",
    "    if df_raw[i].dtype == 'O':\n",
    "        objects.append(str(i))\n",
    "\n",
    "df_na = df_na.drop(objects, axis=1)\n",
    "\n",
    "df_na.isna().sum()"
   ]
  },
  {
   "cell_type": "code",
   "execution_count": 31,
   "metadata": {
    "colab": {
     "base_uri": "https://localhost:8080/"
    },
    "id": "rtUtAqjWAqZ_",
    "outputId": "05f83c7a-d68b-4951-f563-960451d6dfc7"
   },
   "outputs": [
    {
     "data": {
      "text/plain": [
       "Bedroom2           0\n",
       "Bathroom           0\n",
       "Car               62\n",
       "Landsize           0\n",
       "BuildingArea    6450\n",
       "YearBuilt       5375\n",
       "dtype: int64"
      ]
     },
     "execution_count": 31,
     "metadata": {
      "tags": []
     },
     "output_type": "execute_result"
    }
   ],
   "source": [
    "cols = ['Bedroom2', 'Bathroom', 'Car','Landsize','BuildingArea', 'YearBuilt']\n",
    "df_num = df_na[cols]\n",
    "df_num.isna().sum()"
   ]
  },
  {
   "cell_type": "code",
   "execution_count": 32,
   "metadata": {
    "colab": {
     "base_uri": "https://localhost:8080/"
    },
    "id": "65v0O0lEAqaA",
    "outputId": "fe12b9a7-c052-4e7f-8ff9-6b0286cb1541"
   },
   "outputs": [
    {
     "name": "stdout",
     "output_type": "stream",
     "text": [
      "Car has 62 missing values or 0.4566% missing values\n",
      "BuildingArea has 6450 missing values or 47.4963% missing values\n",
      "YearBuilt has 5375 missing values or 39.5803% missing values\n"
     ]
    }
   ],
   "source": [
    "# Now I will check for Numerical variables that contains missing values\n",
    "\n",
    "numerical_with_nan=[feature for feature in train.columns if train[feature].isnull().sum()>1 and train[feature].dtypes!='O']\n",
    "\n",
    "for feature in numerical_with_nan:\n",
    "    print(\"{} has {} missing values or {}% missing values\".format(feature, train[feature].isnull().sum(), np.round(train[feature].isnull().mean()*100,4)))"
   ]
  },
  {
   "cell_type": "code",
   "execution_count": 33,
   "metadata": {
    "colab": {
     "base_uri": "https://localhost:8080/"
    },
    "id": "7RBZFomSAqaA",
    "outputId": "550b3e0b-7679-4686-9dd0-d4acd4dea831"
   },
   "outputs": [
    {
     "name": "stderr",
     "output_type": "stream",
     "text": [
      "/usr/local/lib/python3.7/dist-packages/pandas/core/series.py:4536: SettingWithCopyWarning: \n",
      "A value is trying to be set on a copy of a slice from a DataFrame\n",
      "\n",
      "See the caveats in the documentation: https://pandas.pydata.org/pandas-docs/stable/user_guide/indexing.html#returning-a-view-versus-a-copy\n",
      "  downcast=downcast,\n"
     ]
    },
    {
     "data": {
      "text/plain": [
       "Bedroom2        0\n",
       "Bathroom        0\n",
       "Car             0\n",
       "Landsize        0\n",
       "BuildingArea    0\n",
       "YearBuilt       0\n",
       "dtype: int64"
      ]
     },
     "execution_count": 33,
     "metadata": {
      "tags": []
     },
     "output_type": "execute_result"
    }
   ],
   "source": [
    "# Replacing the numerical Missing Values with median as there are outliers present\n",
    "\n",
    "for feature in numerical_with_nan:\n",
    "    median_value=df_num[feature].median()\n",
    "    df_num[feature].fillna(median_value,inplace=True)\n",
    "    \n",
    "df_num.isna().sum()"
   ]
  },
  {
   "cell_type": "code",
   "execution_count": 34,
   "metadata": {
    "colab": {
     "base_uri": "https://localhost:8080/",
     "height": 195
    },
    "id": "1AOU9hrSAqaB",
    "outputId": "85c6d0bd-890b-406d-80f9-a4f3401eb498"
   },
   "outputs": [
    {
     "data": {
      "text/html": [
       "<div>\n",
       "<style scoped>\n",
       "    .dataframe tbody tr th:only-of-type {\n",
       "        vertical-align: middle;\n",
       "    }\n",
       "\n",
       "    .dataframe tbody tr th {\n",
       "        vertical-align: top;\n",
       "    }\n",
       "\n",
       "    .dataframe thead th {\n",
       "        text-align: right;\n",
       "    }\n",
       "</style>\n",
       "<table border=\"1\" class=\"dataframe\">\n",
       "  <thead>\n",
       "    <tr style=\"text-align: right;\">\n",
       "      <th></th>\n",
       "      <th>Bedroom2</th>\n",
       "      <th>Bathroom</th>\n",
       "      <th>Car</th>\n",
       "      <th>Landsize</th>\n",
       "      <th>BuildingArea</th>\n",
       "      <th>YearBuilt</th>\n",
       "    </tr>\n",
       "  </thead>\n",
       "  <tbody>\n",
       "    <tr>\n",
       "      <th>0</th>\n",
       "      <td>2</td>\n",
       "      <td>1</td>\n",
       "      <td>1.0</td>\n",
       "      <td>202</td>\n",
       "      <td>126.0</td>\n",
       "      <td>1970.0</td>\n",
       "    </tr>\n",
       "    <tr>\n",
       "      <th>1</th>\n",
       "      <td>2</td>\n",
       "      <td>1</td>\n",
       "      <td>0.0</td>\n",
       "      <td>156</td>\n",
       "      <td>79.0</td>\n",
       "      <td>1900.0</td>\n",
       "    </tr>\n",
       "    <tr>\n",
       "      <th>2</th>\n",
       "      <td>3</td>\n",
       "      <td>2</td>\n",
       "      <td>0.0</td>\n",
       "      <td>134</td>\n",
       "      <td>150.0</td>\n",
       "      <td>1900.0</td>\n",
       "    </tr>\n",
       "    <tr>\n",
       "      <th>3</th>\n",
       "      <td>3</td>\n",
       "      <td>2</td>\n",
       "      <td>1.0</td>\n",
       "      <td>94</td>\n",
       "      <td>126.0</td>\n",
       "      <td>1970.0</td>\n",
       "    </tr>\n",
       "    <tr>\n",
       "      <th>4</th>\n",
       "      <td>3</td>\n",
       "      <td>1</td>\n",
       "      <td>2.0</td>\n",
       "      <td>120</td>\n",
       "      <td>142.0</td>\n",
       "      <td>2014.0</td>\n",
       "    </tr>\n",
       "  </tbody>\n",
       "</table>\n",
       "</div>"
      ],
      "text/plain": [
       "   Bedroom2  Bathroom  Car  Landsize  BuildingArea  YearBuilt\n",
       "0         2         1  1.0       202         126.0     1970.0\n",
       "1         2         1  0.0       156          79.0     1900.0\n",
       "2         3         2  0.0       134         150.0     1900.0\n",
       "3         3         2  1.0        94         126.0     1970.0\n",
       "4         3         1  2.0       120         142.0     2014.0"
      ]
     },
     "execution_count": 34,
     "metadata": {
      "tags": []
     },
     "output_type": "execute_result"
    }
   ],
   "source": [
    "df_num.head()"
   ]
  },
  {
   "cell_type": "code",
   "execution_count": 35,
   "metadata": {
    "colab": {
     "base_uri": "https://localhost:8080/"
    },
    "id": "Q_x9lZRGAqaB",
    "outputId": "28193e82-09d6-4595-ccff-c56e9b372bd1"
   },
   "outputs": [
    {
     "data": {
      "text/plain": [
       "Rooms                            0\n",
       "Price                            0\n",
       "Distance                         0\n",
       "Postcode                         0\n",
       "Lattitude                        0\n",
       "Longtitude                       0\n",
       "Propertycount                    0\n",
       "log_Price                        0\n",
       "(h,)                             0\n",
       "(t,)                             0\n",
       "(u,)                             0\n",
       "(PI,)                            0\n",
       "(S,)                             0\n",
       "(SA,)                            0\n",
       "(SP,)                            0\n",
       "(VB,)                            0\n",
       "(Eastern Metropolitan,)          0\n",
       "(Eastern Victoria,)              0\n",
       "(Northern Metropolitan,)         0\n",
       "(Northern Victoria,)             0\n",
       "(South-Eastern Metropolitan,)    0\n",
       "(Southern Metropolitan,)         0\n",
       "(Western Metropolitan,)          0\n",
       "(Western Victoria,)              0\n",
       "Bedroom2                         0\n",
       "Bathroom                         0\n",
       "Car                              0\n",
       "Landsize                         0\n",
       "BuildingArea                     0\n",
       "YearBuilt                        0\n",
       "dtype: int64"
      ]
     },
     "execution_count": 35,
     "metadata": {
      "tags": []
     },
     "output_type": "execute_result"
    }
   ],
   "source": [
    "# Concatinating filled NaNs with the rest of our data\n",
    "\n",
    "df_na = pd.concat([df_na.drop(cols, axis=1), df_num], axis=1)\n",
    "df_na.head()\n",
    "df_na.isna().sum()"
   ]
  },
  {
   "cell_type": "code",
   "execution_count": 36,
   "metadata": {
    "id": "maB769ukAqaB"
   },
   "outputs": [],
   "source": [
    "# Clean up columns from 1hot encoding\n",
    "col_list = ['Rooms', 'Price', 'Distance', 'Postcode', 'Lattitude',\n",
    "            'Longtitude', 'Propertycount', 'log_Price', 'h', 't', 'u',\n",
    "            'PI', 'S', 'SA', 'SP',\n",
    "            'VB', 'Eastern_Metropolitan', 'Eastern_Victoria',\n",
    "            'Northern_Metropolitan', 'Northern_Victoria',\n",
    "            'South_Eastern_Metropolitan', 'Southern_Metropolitan',\n",
    "            'Western_Metropolitan', 'Western_Victoria', 'Bedroom2',\n",
    "            'Bathroom', 'Car', 'Landsize', 'BuildingArea', 'YearBuilt']\n",
    "df_na.columns = col_list"
   ]
  },
  {
   "cell_type": "code",
   "execution_count": 37,
   "metadata": {
    "colab": {
     "base_uri": "https://localhost:8080/"
    },
    "id": "NsFz6EcZAqaB",
    "outputId": "4f39ea0f-8a18-4c1d-9a58-065aa73f2178"
   },
   "outputs": [
    {
     "data": {
      "text/plain": [
       "0   2016-12-03\n",
       "1   2016-02-04\n",
       "2   2017-03-04\n",
       "3   2017-03-04\n",
       "4   2016-06-04\n",
       "Name: Date, dtype: datetime64[ns]"
      ]
     },
     "execution_count": 37,
     "metadata": {
      "tags": []
     },
     "output_type": "execute_result"
    }
   ],
   "source": [
    "# Convert Date feature to datetime\n",
    "\n",
    "df_na['Date'] = df_raw['Date']\n",
    "df_na['Date'].head()\n",
    "\n",
    "df_na['Date'] = pd.to_datetime(df_na['Date'], errors='raise', dayfirst=1)\n",
    "df_na['Date'].head()"
   ]
  },
  {
   "cell_type": "code",
   "execution_count": 38,
   "metadata": {
    "id": "pVpC_Pe6AqaC"
   },
   "outputs": [],
   "source": [
    "# Store the engineered data into new dataset\n",
    "df_clean = df_na"
   ]
  },
  {
   "cell_type": "code",
   "execution_count": 39,
   "metadata": {
    "colab": {
     "base_uri": "https://localhost:8080/"
    },
    "id": "FiQs8BQtAqaC",
    "outputId": "7a5d5ee8-0ff6-4d10-8264-0e6755fea4eb"
   },
   "outputs": [
    {
     "name": "stdout",
     "output_type": "stream",
     "text": [
      "<class 'pandas.core.frame.DataFrame'>\n",
      "Int64Index: 13580 entries, 0 to 13579\n",
      "Data columns (total 31 columns):\n",
      " #   Column                      Non-Null Count  Dtype         \n",
      "---  ------                      --------------  -----         \n",
      " 0   Rooms                       13580 non-null  int64         \n",
      " 1   Price                       13580 non-null  int64         \n",
      " 2   Distance                    13580 non-null  float64       \n",
      " 3   Postcode                    13580 non-null  int64         \n",
      " 4   Lattitude                   13580 non-null  float64       \n",
      " 5   Longtitude                  13580 non-null  float64       \n",
      " 6   Propertycount               13580 non-null  int64         \n",
      " 7   log_Price                   13580 non-null  float64       \n",
      " 8   h                           13580 non-null  float64       \n",
      " 9   t                           13580 non-null  float64       \n",
      " 10  u                           13580 non-null  float64       \n",
      " 11  PI                          13580 non-null  float64       \n",
      " 12  S                           13580 non-null  float64       \n",
      " 13  SA                          13580 non-null  float64       \n",
      " 14  SP                          13580 non-null  float64       \n",
      " 15  VB                          13580 non-null  float64       \n",
      " 16  Eastern_Metropolitan        13580 non-null  float64       \n",
      " 17  Eastern_Victoria            13580 non-null  float64       \n",
      " 18  Northern_Metropolitan       13580 non-null  float64       \n",
      " 19  Northern_Victoria           13580 non-null  float64       \n",
      " 20  South_Eastern_Metropolitan  13580 non-null  float64       \n",
      " 21  Southern_Metropolitan       13580 non-null  float64       \n",
      " 22  Western_Metropolitan        13580 non-null  float64       \n",
      " 23  Western_Victoria            13580 non-null  float64       \n",
      " 24  Bedroom2                    13580 non-null  int64         \n",
      " 25  Bathroom                    13580 non-null  int64         \n",
      " 26  Car                         13580 non-null  float64       \n",
      " 27  Landsize                    13580 non-null  int64         \n",
      " 28  BuildingArea                13580 non-null  float64       \n",
      " 29  YearBuilt                   13580 non-null  float64       \n",
      " 30  Date                        13580 non-null  datetime64[ns]\n",
      "dtypes: datetime64[ns](1), float64(23), int64(7)\n",
      "memory usage: 3.3 MB\n"
     ]
    }
   ],
   "source": [
    "# Check data again\n",
    "df_clean.info()"
   ]
  },
  {
   "cell_type": "markdown",
   "metadata": {
    "id": "jyyziskdAqaC"
   },
   "source": [
    "# Model Building"
   ]
  },
  {
   "cell_type": "code",
   "execution_count": 40,
   "metadata": {
    "id": "F7e7MgJrAqaC"
   },
   "outputs": [],
   "source": [
    "# define data and target variables\n",
    "\n",
    "drop_list = ['Price', 'log_Price', 'Date']\n",
    "data = df_clean.drop(drop_list, axis=1)\n",
    "target = df_clean['log_Price']"
   ]
  },
  {
   "cell_type": "code",
   "execution_count": 41,
   "metadata": {
    "id": "-Fw7bJadAqaD"
   },
   "outputs": [],
   "source": [
    "# Train test data split\n",
    "X_train, X_test, y_train, y_test = train_test_split(data, target, test_size=0.2, random_state=42)"
   ]
  },
  {
   "cell_type": "markdown",
   "metadata": {
    "id": "VDysAHWBAqaD"
   },
   "source": [
    "### Data Transformation"
   ]
  },
  {
   "cell_type": "code",
   "execution_count": 42,
   "metadata": {
    "id": "SBQISi4yAqaD"
   },
   "outputs": [],
   "source": [
    "scaler = StandardScaler()\n",
    "X_train_scaled = scaler.fit_transform(X_train.astype(np.float64))\n",
    "X_test_scaled = scaler.transform(X_test.astype(np.float64))"
   ]
  },
  {
   "cell_type": "markdown",
   "metadata": {
    "id": "eqyE9o3fAqaD"
   },
   "source": [
    "### Linear Regression"
   ]
  },
  {
   "cell_type": "code",
   "execution_count": 43,
   "metadata": {
    "colab": {
     "base_uri": "https://localhost:8080/"
    },
    "id": "vdQRDQeVAqaD",
    "outputId": "021b1bab-cb4d-4476-8ccf-4bf3afece5ce"
   },
   "outputs": [
    {
     "name": "stdout",
     "output_type": "stream",
     "text": [
      "Linear Regression\n",
      "\n",
      "R-squared training set:\n",
      "0.7202528607618356\n",
      "\n",
      "R-squared test set:\n",
      "0.7016474843700429\n"
     ]
    }
   ],
   "source": [
    "# Linear Regression model without scaled data\n",
    "OLS = LinearRegression()\n",
    "OLS.fit(X_train, y_train)\n",
    "\n",
    "y_pred = OLS.predict(X_test)\n",
    "\n",
    "print('Linear Regression')\n",
    "print('\\nR-squared training set:')\n",
    "print(OLS.score(X_train, y_train))\n",
    "\n",
    "print('\\nR-squared test set:')\n",
    "print(OLS.score(X_test, y_test))"
   ]
  },
  {
   "cell_type": "code",
   "execution_count": 44,
   "metadata": {
    "colab": {
     "base_uri": "https://localhost:8080/"
    },
    "id": "nrp2B0UVAqaE",
    "outputId": "f0dd6935-89ef-4495-fc8e-8c7825ee2b4c"
   },
   "outputs": [
    {
     "name": "stdout",
     "output_type": "stream",
     "text": [
      "Scaled Linear Regression\n",
      "\n",
      "R-squared training set:\n",
      "0.7202525124561749\n",
      "\n",
      "R-squared test set:\n",
      "0.7016370875865354\n"
     ]
    }
   ],
   "source": [
    "# Linear Regression model with scaled data\n",
    "OLS_scaled = LinearRegression()\n",
    "OLS_scaled.fit(X_train_scaled, y_train)\n",
    "y_pred = OLS_scaled.predict(X_test_scaled)\n",
    "\n",
    "print('Scaled Linear Regression')\n",
    "print('\\nR-squared training set:')\n",
    "print(OLS_scaled.score(X_train_scaled, y_train))\n",
    "\n",
    "print('\\nR-squared test set:')\n",
    "print(OLS_scaled.score(X_test_scaled, y_test))"
   ]
  },
  {
   "cell_type": "markdown",
   "metadata": {
    "id": "Ef1e68r5AqaE"
   },
   "source": [
    "### Random Forest"
   ]
  },
  {
   "cell_type": "code",
   "execution_count": 45,
   "metadata": {
    "colab": {
     "base_uri": "https://localhost:8080/"
    },
    "id": "5paDnkAmAqaE",
    "outputId": "61285804-fe47-49e1-a174-816ff353a9d4"
   },
   "outputs": [
    {
     "name": "stdout",
     "output_type": "stream",
     "text": [
      "Random Forest Regressor\n",
      "\n",
      "R-squared training set:\n",
      "0.9732168124397975\n",
      "\n",
      "R-squared test set:\n",
      "0.8519625665653334\n"
     ]
    }
   ],
   "source": [
    "# Random Forest model without scaled data\n",
    "RF = RandomForestRegressor(n_estimators=10)\n",
    "RF.fit(X_train, y_train)\n",
    "y_pred = RF.predict(X_test)\n",
    "\n",
    "print('Random Forest Regressor')\n",
    "print('\\nR-squared training set:')\n",
    "print(RF.score(X_train, y_train))\n",
    "\n",
    "print('\\nR-squared test set:')\n",
    "print(RF.score(X_test, y_test))"
   ]
  },
  {
   "cell_type": "code",
   "execution_count": 46,
   "metadata": {
    "colab": {
     "base_uri": "https://localhost:8080/"
    },
    "id": "hG1TqPnmAqaE",
    "outputId": "4a67fb56-5efa-438e-8c67-038824383c44"
   },
   "outputs": [
    {
     "name": "stdout",
     "output_type": "stream",
     "text": [
      "Scaled Random Forest Regressor\n",
      "\n",
      "R-squared training set:\n",
      "0.9730045733231826\n",
      "\n",
      "R-squared test set:\n",
      "0.8521016942442514\n"
     ]
    }
   ],
   "source": [
    "# Random Forest model with scaled data\n",
    "RF_scaled = RandomForestRegressor(n_estimators=10)\n",
    "RF_scaled.fit(X_train_scaled, y_train)\n",
    "y_pred = RF_scaled.predict(X_test_scaled)\n",
    "\n",
    "print('Scaled Random Forest Regressor')\n",
    "print('\\nR-squared training set:')\n",
    "print(RF_scaled.score(X_train_scaled, y_train))\n",
    "\n",
    "print('\\nR-squared test set:')\n",
    "print(RF_scaled.score(X_test_scaled, y_test))"
   ]
  },
  {
   "cell_type": "markdown",
   "metadata": {
    "id": "5z4QN20MAqaF"
   },
   "source": [
    "### Hyperparameter Optimized Random Forest Model"
   ]
  },
  {
   "cell_type": "code",
   "execution_count": 47,
   "metadata": {
    "id": "oRBNho72AqaF"
   },
   "outputs": [],
   "source": [
    "forest=RandomForestRegressor()"
   ]
  },
  {
   "cell_type": "code",
   "execution_count": 48,
   "metadata": {
    "colab": {
     "base_uri": "https://localhost:8080/"
    },
    "id": "flIkhJuiAqaF",
    "outputId": "5915e375-e022-4dd3-b42a-048020124875"
   },
   "outputs": [
    {
     "data": {
      "text/plain": [
       "{'bootstrap': True,\n",
       " 'ccp_alpha': 0.0,\n",
       " 'criterion': 'mse',\n",
       " 'max_depth': None,\n",
       " 'max_features': 'auto',\n",
       " 'max_leaf_nodes': None,\n",
       " 'max_samples': None,\n",
       " 'min_impurity_decrease': 0.0,\n",
       " 'min_impurity_split': None,\n",
       " 'min_samples_leaf': 1,\n",
       " 'min_samples_split': 2,\n",
       " 'min_weight_fraction_leaf': 0.0,\n",
       " 'n_estimators': 100,\n",
       " 'n_jobs': None,\n",
       " 'oob_score': False,\n",
       " 'random_state': None,\n",
       " 'verbose': 0,\n",
       " 'warm_start': False}"
      ]
     },
     "execution_count": 48,
     "metadata": {
      "tags": []
     },
     "output_type": "execute_result"
    }
   ],
   "source": [
    "forest.get_params()"
   ]
  },
  {
   "cell_type": "code",
   "execution_count": 56,
   "metadata": {
    "id": "Qgn7vv95AqaF"
   },
   "outputs": [],
   "source": [
    "# Create the parameter grid based on the results of random search \n",
    "param_grid = {\n",
    "    'max_depth': [40, 50, 55],\n",
    "}\n",
    "\n",
    "grid_search = GridSearchCV(estimator=forest, param_grid=param_grid, cv=4, n_jobs=-1, verbose=2)"
   ]
  },
  {
   "cell_type": "code",
   "execution_count": 57,
   "metadata": {
    "colab": {
     "base_uri": "https://localhost:8080/"
    },
    "id": "hCraC6IRAqaF",
    "outputId": "405beae0-241f-4529-c81c-8cf5901b9d71"
   },
   "outputs": [
    {
     "name": "stdout",
     "output_type": "stream",
     "text": [
      "Fitting 4 folds for each of 3 candidates, totalling 12 fits\n"
     ]
    },
    {
     "name": "stderr",
     "output_type": "stream",
     "text": [
      "[Parallel(n_jobs=-1)]: Using backend LokyBackend with 2 concurrent workers.\n",
      "[Parallel(n_jobs=-1)]: Done  12 out of  12 | elapsed:   47.0s finished\n"
     ]
    },
    {
     "data": {
      "text/plain": [
       "GridSearchCV(cv=4, error_score=nan,\n",
       "             estimator=RandomForestRegressor(bootstrap=True, ccp_alpha=0.0,\n",
       "                                             criterion='mse', max_depth=None,\n",
       "                                             max_features='auto',\n",
       "                                             max_leaf_nodes=None,\n",
       "                                             max_samples=None,\n",
       "                                             min_impurity_decrease=0.0,\n",
       "                                             min_impurity_split=None,\n",
       "                                             min_samples_leaf=1,\n",
       "                                             min_samples_split=2,\n",
       "                                             min_weight_fraction_leaf=0.0,\n",
       "                                             n_estimators=100, n_jobs=None,\n",
       "                                             oob_score=False, random_state=None,\n",
       "                                             verbose=0, warm_start=False),\n",
       "             iid='deprecated', n_jobs=-1,\n",
       "             param_grid={'max_depth': [40, 50, 55]}, pre_dispatch='2*n_jobs',\n",
       "             refit=True, return_train_score=False, scoring=None, verbose=2)"
      ]
     },
     "execution_count": 57,
     "metadata": {
      "tags": []
     },
     "output_type": "execute_result"
    }
   ],
   "source": [
    "grid_search.fit(X_train,y_train)"
   ]
  },
  {
   "cell_type": "code",
   "execution_count": 58,
   "metadata": {
    "colab": {
     "base_uri": "https://localhost:8080/"
    },
    "id": "eTvXlSYrAqaG",
    "outputId": "1d987735-6e10-4ae1-d40b-79b67bd66699"
   },
   "outputs": [
    {
     "data": {
      "text/plain": [
       "{'max_depth': 40}"
      ]
     },
     "execution_count": 58,
     "metadata": {
      "tags": []
     },
     "output_type": "execute_result"
    }
   ],
   "source": [
    "grid_search.best_params_"
   ]
  },
  {
   "cell_type": "code",
   "execution_count": 59,
   "metadata": {
    "colab": {
     "base_uri": "https://localhost:8080/"
    },
    "id": "EIAnvj0tAqaG",
    "outputId": "726893d9-71ff-4bb4-e169-ef1ebc4cc9e0"
   },
   "outputs": [
    {
     "data": {
      "text/plain": [
       "RandomForestRegressor(bootstrap=True, ccp_alpha=0.0, criterion='mse',\n",
       "                      max_depth=40, max_features='auto', max_leaf_nodes=None,\n",
       "                      max_samples=None, min_impurity_decrease=0.0,\n",
       "                      min_impurity_split=None, min_samples_leaf=1,\n",
       "                      min_samples_split=2, min_weight_fraction_leaf=0.0,\n",
       "                      n_estimators=100, n_jobs=None, oob_score=False,\n",
       "                      random_state=None, verbose=0, warm_start=False)"
      ]
     },
     "execution_count": 59,
     "metadata": {
      "tags": []
     },
     "output_type": "execute_result"
    }
   ],
   "source": [
    "grid_search.best_estimator_"
   ]
  },
  {
   "cell_type": "code",
   "execution_count": 60,
   "metadata": {
    "id": "HPfERUiZAqaG"
   },
   "outputs": [],
   "source": [
    "model_rf= RandomForestRegressor(bootstrap=True, ccp_alpha=0.0, criterion='mse',\n",
    "                      max_depth=40, max_features='auto', max_leaf_nodes=None,\n",
    "                      max_samples=None, min_impurity_decrease=0.0,\n",
    "                      min_impurity_split=None, min_samples_leaf=1,\n",
    "                      min_samples_split=2, min_weight_fraction_leaf=0.0,\n",
    "                      n_estimators=100, n_jobs=None, oob_score=False,\n",
    "                      random_state=None, verbose=0, warm_start=False)"
   ]
  },
  {
   "cell_type": "code",
   "execution_count": 61,
   "metadata": {
    "colab": {
     "base_uri": "https://localhost:8080/"
    },
    "id": "CTf6Oh84AqaG",
    "outputId": "dd0b897a-cf56-421c-bcbd-b4a8bfc8d8a5"
   },
   "outputs": [
    {
     "data": {
      "text/plain": [
       "RandomForestRegressor(bootstrap=True, ccp_alpha=0.0, criterion='mse',\n",
       "                      max_depth=40, max_features='auto', max_leaf_nodes=None,\n",
       "                      max_samples=None, min_impurity_decrease=0.0,\n",
       "                      min_impurity_split=None, min_samples_leaf=1,\n",
       "                      min_samples_split=2, min_weight_fraction_leaf=0.0,\n",
       "                      n_estimators=100, n_jobs=None, oob_score=False,\n",
       "                      random_state=None, verbose=0, warm_start=False)"
      ]
     },
     "execution_count": 61,
     "metadata": {
      "tags": []
     },
     "output_type": "execute_result"
    }
   ],
   "source": [
    "model_rf.fit(X_train,y_train)"
   ]
  },
  {
   "cell_type": "code",
   "execution_count": 62,
   "metadata": {
    "id": "3Iv8vpiLAqaG"
   },
   "outputs": [],
   "source": [
    "y_pred_rf=model_rf.predict(X_test)"
   ]
  },
  {
   "cell_type": "code",
   "execution_count": 63,
   "metadata": {
    "colab": {
     "base_uri": "https://localhost:8080/"
    },
    "id": "986j0EHGAqaG",
    "outputId": "4267d9a4-4341-4e48-f0ed-556e8fab9b53"
   },
   "outputs": [
    {
     "data": {
      "text/plain": [
       "0.8699649961358498"
      ]
     },
     "execution_count": 63,
     "metadata": {
      "tags": []
     },
     "output_type": "execute_result"
    }
   ],
   "source": [
    "score_rf=r2_score(y_test,y_pred_rf)\n",
    "score_rf"
   ]
  },
  {
   "cell_type": "markdown",
   "metadata": {
    "id": "cnZm2bv-AqaH"
   },
   "source": [
    "### Result"
   ]
  },
  {
   "cell_type": "markdown",
   "metadata": {
    "id": "kU10h8tdAqaH"
   },
   "source": [
    "- Using Linear Regression with scaled input, house prices can be predicted with 70.16% accuracy.\n",
    "- Using Random Forest model with scaled input, house prices can be predicted with 85.21% accuracy.\n",
    "- By performing hyperparameter optimizations, Random Forest model perfromnace has been improved to 86.99% accuracy."
   ]
  },
  {
   "cell_type": "code",
   "execution_count": null,
   "metadata": {
    "id": "LPiTztnXEmfI"
   },
   "outputs": [],
   "source": []
  }
 ],
 "metadata": {
  "accelerator": "GPU",
  "colab": {
   "name": "Housing_Prices.ipynb",
   "provenance": [],
   "toc_visible": true
  },
  "kernelspec": {
   "display_name": "Python 3",
   "language": "python",
   "name": "python3"
  },
  "language_info": {
   "codemirror_mode": {
    "name": "ipython",
    "version": 3
   },
   "file_extension": ".py",
   "mimetype": "text/x-python",
   "name": "python",
   "nbconvert_exporter": "python",
   "pygments_lexer": "ipython3",
   "version": "3.8.3"
  }
 },
 "nbformat": 4,
 "nbformat_minor": 1
}
